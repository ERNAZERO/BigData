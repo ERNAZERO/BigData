{
 "cells": [
  {
   "cell_type": "markdown",
   "source": [
    "<h1>Numpy</h1>"
   ],
   "metadata": {
    "collapsed": false
   }
  },
  {
   "cell_type": "markdown",
   "source": [
    "1. Создайте одномерный массив my_array, в котором по порядку все числа до 100, кратные 5"
   ],
   "metadata": {
    "collapsed": false
   }
  },
  {
   "cell_type": "code",
   "execution_count": 67,
   "outputs": [
    {
     "data": {
      "text/plain": "array([ 0,  5, 10, 15, 20, 25, 30, 35, 40, 45, 50, 55, 60, 65, 70, 75, 80,\n       85, 90, 95])"
     },
     "execution_count": 67,
     "metadata": {},
     "output_type": "execute_result"
    }
   ],
   "source": [
    "import numpy as np\n",
    "\n",
    "d = np.arange(0,100,5)\n",
    "d\n"
   ],
   "metadata": {
    "collapsed": false,
    "ExecuteTime": {
     "start_time": "2023-10-05T11:53:09.425502Z",
     "end_time": "2023-10-05T11:53:09.637319Z"
    }
   }
  },
  {
   "cell_type": "markdown",
   "source": [],
   "metadata": {
    "collapsed": false
   }
  },
  {
   "cell_type": "markdown",
   "source": [
    "2. Из полученного массива получить массив с кратными 10 числами"
   ],
   "metadata": {
    "collapsed": false
   }
  },
  {
   "cell_type": "code",
   "execution_count": 68,
   "outputs": [
    {
     "data": {
      "text/plain": "array([ 0, 10, 20, 30, 40, 50, 60, 70, 80, 90])"
     },
     "execution_count": 68,
     "metadata": {},
     "output_type": "execute_result"
    }
   ],
   "source": [
    "d = np.arange(0,100,10)\n",
    "d"
   ],
   "metadata": {
    "collapsed": false,
    "ExecuteTime": {
     "start_time": "2023-10-05T11:53:09.428146Z",
     "end_time": "2023-10-05T11:53:09.638474Z"
    }
   }
  },
  {
   "cell_type": "markdown",
   "source": [
    "3. Получить двумерный массив с двумя столбцами"
   ],
   "metadata": {
    "collapsed": false
   }
  },
  {
   "cell_type": "code",
   "execution_count": 69,
   "outputs": [
    {
     "data": {
      "text/plain": "array([[1, 2],\n       [6, 8]])"
     },
     "execution_count": 69,
     "metadata": {},
     "output_type": "execute_result"
    }
   ],
   "source": [
    "mass = np.array([[1,2],[6,8]])\n",
    "mass"
   ],
   "metadata": {
    "collapsed": false,
    "ExecuteTime": {
     "start_time": "2023-10-05T11:53:09.432884Z",
     "end_time": "2023-10-05T11:53:09.638944Z"
    }
   }
  },
  {
   "cell_type": "markdown",
   "source": [
    "4. Получите набор my_second_array, в котором все элементы меньше предыдущего исходного на 5"
   ],
   "metadata": {
    "collapsed": false
   }
  },
  {
   "cell_type": "code",
   "execution_count": 70,
   "outputs": [
    {
     "data": {
      "text/plain": "[6, 8]"
     },
     "execution_count": 70,
     "metadata": {},
     "output_type": "execute_result"
    }
   ],
   "source": [
    "my_second_array = []\n",
    "for i in mass:\n",
    "    for j in i:\n",
    "        if j>5:\n",
    "            my_second_array.append(j)\n",
    "my_second_array\n"
   ],
   "metadata": {
    "collapsed": false,
    "ExecuteTime": {
     "start_time": "2023-10-05T11:53:09.438956Z",
     "end_time": "2023-10-05T11:53:09.639420Z"
    }
   }
  },
  {
   "cell_type": "markdown",
   "source": [
    "5. Соедините массивы, полученные в п. 3.1 и 4.1, горизонтально. Используйте .T для транспонирования матрицы.\n"
   ],
   "metadata": {
    "collapsed": false
   }
  },
  {
   "cell_type": "code",
   "execution_count": 71,
   "outputs": [
    {
     "data": {
      "text/plain": "array([[1, 2, 3, 5, 6, 7],\n       [1, 2, 3, 5, 6, 7]])"
     },
     "execution_count": 71,
     "metadata": {},
     "output_type": "execute_result"
    }
   ],
   "source": [
    "mass1 = np.array([[1,2,3], [1,2,3,]])\n",
    "mass2 = np.array([[5,6,7], [5,6,7]])\n",
    "sum = np.concatenate((mass1,mass2), axis=1)\n",
    "sum\n"
   ],
   "metadata": {
    "collapsed": false,
    "ExecuteTime": {
     "start_time": "2023-10-05T11:53:09.443477Z",
     "end_time": "2023-10-05T11:53:09.639861Z"
    }
   }
  },
  {
   "cell_type": "markdown",
   "source": [
    "6. Разделите 2 и 3 строку на 4 верхних строки my_array. Используйте .T для транспонирования матрицы"
   ],
   "metadata": {
    "collapsed": false
   }
  },
  {
   "cell_type": "code",
   "execution_count": 72,
   "outputs": [
    {
     "data": {
      "text/plain": "array([[[0.2       , 0.33333333, 0.42857143],\n        [0.2       , 0.33333333, 0.42857143]]])"
     },
     "execution_count": 72,
     "metadata": {},
     "output_type": "execute_result"
    }
   ],
   "source": [
    "selected_rows = mass1[1:3]\n",
    "top_rows = mass2[:4]\n",
    "result_matrix = selected_rows[:, np.newaxis] / top_rows\n",
    "result_matrix"
   ],
   "metadata": {
    "collapsed": false,
    "ExecuteTime": {
     "start_time": "2023-10-05T11:53:09.445991Z",
     "end_time": "2023-10-05T11:53:09.640317Z"
    }
   }
  },
  {
   "cell_type": "markdown",
   "source": [
    "7.Оставить только те значения, которые не изменились после деления"
   ],
   "metadata": {
    "collapsed": false
   }
  },
  {
   "cell_type": "code",
   "execution_count": 73,
   "outputs": [
    {
     "data": {
      "text/plain": "array([], dtype=float64)"
     },
     "execution_count": 73,
     "metadata": {},
     "output_type": "execute_result"
    }
   ],
   "source": [
    "filtered_values = result_matrix[result_matrix == result_matrix.astype(int)]\n",
    "filtered_values"
   ],
   "metadata": {
    "collapsed": false,
    "ExecuteTime": {
     "start_time": "2023-10-05T11:53:09.453658Z",
     "end_time": "2023-10-05T11:53:09.640795Z"
    }
   }
  },
  {
   "cell_type": "markdown",
   "source": [
    "8.Снова получить трехстрочный двумерный массив и поменять местами первую и третью строки"
   ],
   "metadata": {
    "collapsed": false
   }
  },
  {
   "cell_type": "code",
   "execution_count": 74,
   "outputs": [
    {
     "name": "stdout",
     "output_type": "stream",
     "text": [
      "Матрица до изменений\n",
      " [[1 2 3]\n",
      " [4 5 6]\n",
      " [7 8 9]]\n",
      "Матрица после\n",
      " [[7 8 9]\n",
      " [4 5 6]\n",
      " [7 8 9]]\n"
     ]
    }
   ],
   "source": [
    "l = np.array([[1,2,3],[4,5,6], [7,8,9]])\n",
    "print ('Матрица до изменений\\n',l)\n",
    "l[0],l[2] = l[2], l[0]\n",
    "print ('Матрица после\\n',l)\n",
    "\n"
   ],
   "metadata": {
    "collapsed": false,
    "ExecuteTime": {
     "start_time": "2023-10-05T11:53:09.459107Z",
     "end_time": "2023-10-05T11:53:09.649341Z"
    }
   }
  },
  {
   "cell_type": "markdown",
   "source": [
    "9. Получить среднее, медиану и стандартное отклонение для каждой строки, используя команды np.mean(), np.median(), np.std().\n"
   ],
   "metadata": {
    "collapsed": false
   }
  },
  {
   "cell_type": "code",
   "execution_count": 75,
   "outputs": [
    {
     "name": "stdout",
     "output_type": "stream",
     "text": [
      "Stroka [1 2 3 4] \n",
      "mean:  2.5 median 2.5 std: 1.118033988749895\n",
      "Stroka [5 6 7 8] \n",
      "mean:  6.5 median 6.5 std: 1.118033988749895\n",
      "Stroka [ 9 10 11 12] \n",
      "mean:  10.5 median 10.5 std: 1.118033988749895\n"
     ]
    }
   ],
   "source": [
    "spisok = np.array([[1,2,3,4], [5,6,7,8,], [9,10,11,12]])\n",
    "for i in spisok:\n",
    "    mean = np.mean(i)\n",
    "    median = np.median(i)\n",
    "    std = np.std(i)\n",
    "    print ('Stroka', i, '\\nmean: ', mean, 'median', median, 'std:', std)\n",
    "\n"
   ],
   "metadata": {
    "collapsed": false,
    "ExecuteTime": {
     "start_time": "2023-10-05T11:53:09.464678Z",
     "end_time": "2023-10-05T11:53:09.649537Z"
    }
   }
  },
  {
   "cell_type": "markdown",
   "source": [
    "10. Сделать нормализацию на максимальное значение вдоль строк, поделив каждый элемент массива на max() вдоль строк."
   ],
   "metadata": {
    "collapsed": false
   }
  },
  {
   "cell_type": "code",
   "execution_count": 76,
   "outputs": [
    {
     "name": "stdout",
     "output_type": "stream",
     "text": [
      "[[0.25       0.5        0.75       1.        ]\n",
      " [0.625      0.75       0.875      1.        ]\n",
      " [0.75       0.83333333 0.91666667 1.        ]]\n"
     ]
    }
   ],
   "source": [
    "spisok10 = np.arange(1,13).astype(float).reshape(3,4)\n",
    "for i in range(len(spisok10)):\n",
    "    maxValue = np.max(spisok10[i])\n",
    "    spisok10[i] = spisok10[i] / maxValue\n",
    "print(spisok10)"
   ],
   "metadata": {
    "collapsed": false,
    "ExecuteTime": {
     "start_time": "2023-10-05T11:53:09.468509Z",
     "end_time": "2023-10-05T11:53:09.649597Z"
    }
   }
  },
  {
   "cell_type": "markdown",
   "source": [
    "<h1>Pandas</h1>"
   ],
   "metadata": {
    "collapsed": false
   }
  },
  {
   "cell_type": "markdown",
   "source": [
    "2.1 Импортируйте данные из файла “Global Population Trends(2016-2022).csv”. Описание данных смотрите ниже."
   ],
   "metadata": {
    "collapsed": false
   }
  },
  {
   "cell_type": "code",
   "execution_count": 77,
   "outputs": [
    {
     "data": {
      "text/plain": "          Country  Year Total Population Urban Population Rural Population  \\\n0     Afghanistan  2017                -                -                -   \n1     Afghanistan  2018       36,686,784        9,353,296       27,333,488   \n2     Afghanistan  2019       37,769,499        9,727,157       28,042,342   \n3     Afghanistan  2020       38,972,230       10,142,913       28,829,317   \n4     Afghanistan  2021       40,099,462       10,551,772       29,547,690   \n...           ...   ...              ...              ...              ...   \n1068     Zimbabwe  2017                -                -                -   \n1069     Zimbabwe  2018       15,052,184        4,848,158       10,204,026   \n1070     Zimbabwe  2019       15,354,608        4,945,719       10,408,889   \n1071     Zimbabwe  2020       15,669,666        5,052,214       10,617,452   \n1072     Zimbabwe  2021       15,993,524        5,166,388       10,827,136   \n\n     Population Density Life Expectancy  Birth Rate  Death Rate  \\\n0                    55            63.0      37.342       7.027   \n1                    56            63.0      36.927       6.981   \n2                    58            64.0      36.466       6.791   \n3                    60            63.0      36.051       7.113   \n4                     -            62.0      35.842       7.344   \n...                 ...             ...         ...         ...   \n1068                 38            61.0      32.516       8.266   \n1069                 39            61.0      32.074       7.972   \n1070                 40            61.0      31.518       8.043   \n1071                 41            61.0      31.009       8.132   \n1072                  -            59.0      30.537       9.057   \n\n     Fertility Rate Infant Mortality Rate Growth Rate  \n0             5.129                  49.4           -  \n1             5.002                  47.8         3.0  \n2              4.87                  46.3         3.0  \n3              4.75                  44.8         3.0  \n4             4.643                  43.4         3.0  \n...             ...                   ...         ...  \n1068          3.706                  39.5           -  \n1069          3.659                  38.0         2.0  \n1070          3.599                  37.1         2.0  \n1071          3.545                  36.6         2.0  \n1072          3.491                  35.7         2.0  \n\n[1073 rows x 12 columns]",
      "text/html": "<div>\n<style scoped>\n    .dataframe tbody tr th:only-of-type {\n        vertical-align: middle;\n    }\n\n    .dataframe tbody tr th {\n        vertical-align: top;\n    }\n\n    .dataframe thead th {\n        text-align: right;\n    }\n</style>\n<table border=\"1\" class=\"dataframe\">\n  <thead>\n    <tr style=\"text-align: right;\">\n      <th></th>\n      <th>Country</th>\n      <th>Year</th>\n      <th>Total Population</th>\n      <th>Urban Population</th>\n      <th>Rural Population</th>\n      <th>Population Density</th>\n      <th>Life Expectancy</th>\n      <th>Birth Rate</th>\n      <th>Death Rate</th>\n      <th>Fertility Rate</th>\n      <th>Infant Mortality Rate</th>\n      <th>Growth Rate</th>\n    </tr>\n  </thead>\n  <tbody>\n    <tr>\n      <th>0</th>\n      <td>Afghanistan</td>\n      <td>2017</td>\n      <td>-</td>\n      <td>-</td>\n      <td>-</td>\n      <td>55</td>\n      <td>63.0</td>\n      <td>37.342</td>\n      <td>7.027</td>\n      <td>5.129</td>\n      <td>49.4</td>\n      <td>-</td>\n    </tr>\n    <tr>\n      <th>1</th>\n      <td>Afghanistan</td>\n      <td>2018</td>\n      <td>36,686,784</td>\n      <td>9,353,296</td>\n      <td>27,333,488</td>\n      <td>56</td>\n      <td>63.0</td>\n      <td>36.927</td>\n      <td>6.981</td>\n      <td>5.002</td>\n      <td>47.8</td>\n      <td>3.0</td>\n    </tr>\n    <tr>\n      <th>2</th>\n      <td>Afghanistan</td>\n      <td>2019</td>\n      <td>37,769,499</td>\n      <td>9,727,157</td>\n      <td>28,042,342</td>\n      <td>58</td>\n      <td>64.0</td>\n      <td>36.466</td>\n      <td>6.791</td>\n      <td>4.87</td>\n      <td>46.3</td>\n      <td>3.0</td>\n    </tr>\n    <tr>\n      <th>3</th>\n      <td>Afghanistan</td>\n      <td>2020</td>\n      <td>38,972,230</td>\n      <td>10,142,913</td>\n      <td>28,829,317</td>\n      <td>60</td>\n      <td>63.0</td>\n      <td>36.051</td>\n      <td>7.113</td>\n      <td>4.75</td>\n      <td>44.8</td>\n      <td>3.0</td>\n    </tr>\n    <tr>\n      <th>4</th>\n      <td>Afghanistan</td>\n      <td>2021</td>\n      <td>40,099,462</td>\n      <td>10,551,772</td>\n      <td>29,547,690</td>\n      <td>-</td>\n      <td>62.0</td>\n      <td>35.842</td>\n      <td>7.344</td>\n      <td>4.643</td>\n      <td>43.4</td>\n      <td>3.0</td>\n    </tr>\n    <tr>\n      <th>...</th>\n      <td>...</td>\n      <td>...</td>\n      <td>...</td>\n      <td>...</td>\n      <td>...</td>\n      <td>...</td>\n      <td>...</td>\n      <td>...</td>\n      <td>...</td>\n      <td>...</td>\n      <td>...</td>\n      <td>...</td>\n    </tr>\n    <tr>\n      <th>1068</th>\n      <td>Zimbabwe</td>\n      <td>2017</td>\n      <td>-</td>\n      <td>-</td>\n      <td>-</td>\n      <td>38</td>\n      <td>61.0</td>\n      <td>32.516</td>\n      <td>8.266</td>\n      <td>3.706</td>\n      <td>39.5</td>\n      <td>-</td>\n    </tr>\n    <tr>\n      <th>1069</th>\n      <td>Zimbabwe</td>\n      <td>2018</td>\n      <td>15,052,184</td>\n      <td>4,848,158</td>\n      <td>10,204,026</td>\n      <td>39</td>\n      <td>61.0</td>\n      <td>32.074</td>\n      <td>7.972</td>\n      <td>3.659</td>\n      <td>38.0</td>\n      <td>2.0</td>\n    </tr>\n    <tr>\n      <th>1070</th>\n      <td>Zimbabwe</td>\n      <td>2019</td>\n      <td>15,354,608</td>\n      <td>4,945,719</td>\n      <td>10,408,889</td>\n      <td>40</td>\n      <td>61.0</td>\n      <td>31.518</td>\n      <td>8.043</td>\n      <td>3.599</td>\n      <td>37.1</td>\n      <td>2.0</td>\n    </tr>\n    <tr>\n      <th>1071</th>\n      <td>Zimbabwe</td>\n      <td>2020</td>\n      <td>15,669,666</td>\n      <td>5,052,214</td>\n      <td>10,617,452</td>\n      <td>41</td>\n      <td>61.0</td>\n      <td>31.009</td>\n      <td>8.132</td>\n      <td>3.545</td>\n      <td>36.6</td>\n      <td>2.0</td>\n    </tr>\n    <tr>\n      <th>1072</th>\n      <td>Zimbabwe</td>\n      <td>2021</td>\n      <td>15,993,524</td>\n      <td>5,166,388</td>\n      <td>10,827,136</td>\n      <td>-</td>\n      <td>59.0</td>\n      <td>30.537</td>\n      <td>9.057</td>\n      <td>3.491</td>\n      <td>35.7</td>\n      <td>2.0</td>\n    </tr>\n  </tbody>\n</table>\n<p>1073 rows × 12 columns</p>\n</div>"
     },
     "execution_count": 77,
     "metadata": {},
     "output_type": "execute_result"
    }
   ],
   "source": [
    "import pandas as pd\n",
    "\n",
    "df = pd.read_csv(\"Global Population Trends(2016-2022).csv\")\n",
    "df"
   ],
   "metadata": {
    "collapsed": false,
    "ExecuteTime": {
     "start_time": "2023-10-05T11:53:09.476721Z",
     "end_time": "2023-10-05T11:53:09.652140Z"
    }
   }
  },
  {
   "cell_type": "markdown",
   "source": [
    "2.2 Считайте несколько первых записей таблицы (head())"
   ],
   "metadata": {
    "collapsed": false
   }
  },
  {
   "cell_type": "code",
   "execution_count": 78,
   "outputs": [
    {
     "data": {
      "text/plain": "       Country  Year Total Population Urban Population Rural Population  \\\n0  Afghanistan  2017                -                -                -   \n1  Afghanistan  2018       36,686,784        9,353,296       27,333,488   \n2  Afghanistan  2019       37,769,499        9,727,157       28,042,342   \n3  Afghanistan  2020       38,972,230       10,142,913       28,829,317   \n4  Afghanistan  2021       40,099,462       10,551,772       29,547,690   \n\n  Population Density Life Expectancy  Birth Rate  Death Rate Fertility Rate  \\\n0                 55            63.0      37.342       7.027          5.129   \n1                 56            63.0      36.927       6.981          5.002   \n2                 58            64.0      36.466       6.791           4.87   \n3                 60            63.0      36.051       7.113           4.75   \n4                  -            62.0      35.842       7.344          4.643   \n\n  Infant Mortality Rate Growth Rate  \n0                  49.4           -  \n1                  47.8         3.0  \n2                  46.3         3.0  \n3                  44.8         3.0  \n4                  43.4         3.0  ",
      "text/html": "<div>\n<style scoped>\n    .dataframe tbody tr th:only-of-type {\n        vertical-align: middle;\n    }\n\n    .dataframe tbody tr th {\n        vertical-align: top;\n    }\n\n    .dataframe thead th {\n        text-align: right;\n    }\n</style>\n<table border=\"1\" class=\"dataframe\">\n  <thead>\n    <tr style=\"text-align: right;\">\n      <th></th>\n      <th>Country</th>\n      <th>Year</th>\n      <th>Total Population</th>\n      <th>Urban Population</th>\n      <th>Rural Population</th>\n      <th>Population Density</th>\n      <th>Life Expectancy</th>\n      <th>Birth Rate</th>\n      <th>Death Rate</th>\n      <th>Fertility Rate</th>\n      <th>Infant Mortality Rate</th>\n      <th>Growth Rate</th>\n    </tr>\n  </thead>\n  <tbody>\n    <tr>\n      <th>0</th>\n      <td>Afghanistan</td>\n      <td>2017</td>\n      <td>-</td>\n      <td>-</td>\n      <td>-</td>\n      <td>55</td>\n      <td>63.0</td>\n      <td>37.342</td>\n      <td>7.027</td>\n      <td>5.129</td>\n      <td>49.4</td>\n      <td>-</td>\n    </tr>\n    <tr>\n      <th>1</th>\n      <td>Afghanistan</td>\n      <td>2018</td>\n      <td>36,686,784</td>\n      <td>9,353,296</td>\n      <td>27,333,488</td>\n      <td>56</td>\n      <td>63.0</td>\n      <td>36.927</td>\n      <td>6.981</td>\n      <td>5.002</td>\n      <td>47.8</td>\n      <td>3.0</td>\n    </tr>\n    <tr>\n      <th>2</th>\n      <td>Afghanistan</td>\n      <td>2019</td>\n      <td>37,769,499</td>\n      <td>9,727,157</td>\n      <td>28,042,342</td>\n      <td>58</td>\n      <td>64.0</td>\n      <td>36.466</td>\n      <td>6.791</td>\n      <td>4.87</td>\n      <td>46.3</td>\n      <td>3.0</td>\n    </tr>\n    <tr>\n      <th>3</th>\n      <td>Afghanistan</td>\n      <td>2020</td>\n      <td>38,972,230</td>\n      <td>10,142,913</td>\n      <td>28,829,317</td>\n      <td>60</td>\n      <td>63.0</td>\n      <td>36.051</td>\n      <td>7.113</td>\n      <td>4.75</td>\n      <td>44.8</td>\n      <td>3.0</td>\n    </tr>\n    <tr>\n      <th>4</th>\n      <td>Afghanistan</td>\n      <td>2021</td>\n      <td>40,099,462</td>\n      <td>10,551,772</td>\n      <td>29,547,690</td>\n      <td>-</td>\n      <td>62.0</td>\n      <td>35.842</td>\n      <td>7.344</td>\n      <td>4.643</td>\n      <td>43.4</td>\n      <td>3.0</td>\n    </tr>\n  </tbody>\n</table>\n</div>"
     },
     "execution_count": 78,
     "metadata": {},
     "output_type": "execute_result"
    }
   ],
   "source": [
    "head = df.head(5)\n",
    "head"
   ],
   "metadata": {
    "collapsed": false,
    "ExecuteTime": {
     "start_time": "2023-10-05T11:53:09.507142Z",
     "end_time": "2023-10-05T11:53:09.652215Z"
    }
   }
  },
  {
   "cell_type": "markdown",
   "source": [
    "2.3 Определите размерность данного фрейма (shape())"
   ],
   "metadata": {
    "collapsed": false
   }
  },
  {
   "cell_type": "code",
   "execution_count": 79,
   "outputs": [
    {
     "data": {
      "text/plain": "(1073, 12)"
     },
     "execution_count": 79,
     "metadata": {},
     "output_type": "execute_result"
    }
   ],
   "source": [
    "shape = df.shape\n",
    "shape"
   ],
   "metadata": {
    "collapsed": false,
    "ExecuteTime": {
     "start_time": "2023-10-05T11:53:09.511223Z",
     "end_time": "2023-10-05T11:53:09.652301Z"
    }
   }
  },
  {
   "cell_type": "markdown",
   "source": [
    "2.4 Выведите название заголовков столбцов фрейма (columns)\n"
   ],
   "metadata": {
    "collapsed": false
   }
  },
  {
   "cell_type": "code",
   "execution_count": 80,
   "outputs": [
    {
     "data": {
      "text/plain": "Index(['Country', 'Year', 'Total Population', 'Urban Population',\n       'Rural Population', 'Population Density', 'Life Expectancy',\n       'Birth Rate', 'Death Rate', 'Fertility Rate', 'Infant Mortality Rate',\n       'Growth Rate'],\n      dtype='object')"
     },
     "execution_count": 80,
     "metadata": {},
     "output_type": "execute_result"
    }
   ],
   "source": [
    "column_names = df.columns\n",
    "column_names"
   ],
   "metadata": {
    "collapsed": false,
    "ExecuteTime": {
     "start_time": "2023-10-05T11:53:09.515162Z",
     "end_time": "2023-10-05T11:53:09.652365Z"
    }
   }
  },
  {
   "cell_type": "markdown",
   "source": [
    "2.5 Получите описание всех переменных (полей) (info())\n"
   ],
   "metadata": {
    "collapsed": false
   }
  },
  {
   "cell_type": "code",
   "execution_count": 81,
   "outputs": [
    {
     "data": {
      "text/plain": "<bound method DataFrame.info of           Country  Year Total Population Urban Population Rural Population  \\\n0     Afghanistan  2017                -                -                -   \n1     Afghanistan  2018       36,686,784        9,353,296       27,333,488   \n2     Afghanistan  2019       37,769,499        9,727,157       28,042,342   \n3     Afghanistan  2020       38,972,230       10,142,913       28,829,317   \n4     Afghanistan  2021       40,099,462       10,551,772       29,547,690   \n...           ...   ...              ...              ...              ...   \n1068     Zimbabwe  2017                -                -                -   \n1069     Zimbabwe  2018       15,052,184        4,848,158       10,204,026   \n1070     Zimbabwe  2019       15,354,608        4,945,719       10,408,889   \n1071     Zimbabwe  2020       15,669,666        5,052,214       10,617,452   \n1072     Zimbabwe  2021       15,993,524        5,166,388       10,827,136   \n\n     Population Density Life Expectancy  Birth Rate  Death Rate  \\\n0                    55            63.0      37.342       7.027   \n1                    56            63.0      36.927       6.981   \n2                    58            64.0      36.466       6.791   \n3                    60            63.0      36.051       7.113   \n4                     -            62.0      35.842       7.344   \n...                 ...             ...         ...         ...   \n1068                 38            61.0      32.516       8.266   \n1069                 39            61.0      32.074       7.972   \n1070                 40            61.0      31.518       8.043   \n1071                 41            61.0      31.009       8.132   \n1072                  -            59.0      30.537       9.057   \n\n     Fertility Rate Infant Mortality Rate Growth Rate  \n0             5.129                  49.4           -  \n1             5.002                  47.8         3.0  \n2              4.87                  46.3         3.0  \n3              4.75                  44.8         3.0  \n4             4.643                  43.4         3.0  \n...             ...                   ...         ...  \n1068          3.706                  39.5           -  \n1069          3.659                  38.0         2.0  \n1070          3.599                  37.1         2.0  \n1071          3.545                  36.6         2.0  \n1072          3.491                  35.7         2.0  \n\n[1073 rows x 12 columns]>"
     },
     "execution_count": 81,
     "metadata": {},
     "output_type": "execute_result"
    }
   ],
   "source": [
    "info = df.info\n",
    "info"
   ],
   "metadata": {
    "collapsed": false,
    "ExecuteTime": {
     "start_time": "2023-10-05T11:53:09.520934Z",
     "end_time": "2023-10-05T11:53:09.653697Z"
    }
   }
  },
  {
   "cell_type": "markdown",
   "source": [],
   "metadata": {
    "collapsed": false
   }
  },
  {
   "cell_type": "markdown",
   "source": [
    "2.6 Удалите строки, не содержащие значения в столбце «Total Population» - “-”\n"
   ],
   "metadata": {
    "collapsed": false
   }
  },
  {
   "cell_type": "code",
   "execution_count": 82,
   "outputs": [
    {
     "data": {
      "text/plain": "          Country  Year Total Population Urban Population Rural Population  \\\n0     Afghanistan  2017                -                -                -   \n1     Afghanistan  2018       36,686,784        9,353,296       27,333,488   \n2     Afghanistan  2019       37,769,499        9,727,157       28,042,342   \n3     Afghanistan  2020       38,972,230       10,142,913       28,829,317   \n4     Afghanistan  2021       40,099,462       10,551,772       29,547,690   \n...           ...   ...              ...              ...              ...   \n1068     Zimbabwe  2017                -                -                -   \n1069     Zimbabwe  2018       15,052,184        4,848,158       10,204,026   \n1070     Zimbabwe  2019       15,354,608        4,945,719       10,408,889   \n1071     Zimbabwe  2020       15,669,666        5,052,214       10,617,452   \n1072     Zimbabwe  2021       15,993,524        5,166,388       10,827,136   \n\n     Population Density Life Expectancy  Birth Rate  Death Rate  \\\n0                    55            63.0      37.342       7.027   \n1                    56            63.0      36.927       6.981   \n2                    58            64.0      36.466       6.791   \n3                    60            63.0      36.051       7.113   \n4                     -            62.0      35.842       7.344   \n...                 ...             ...         ...         ...   \n1068                 38            61.0      32.516       8.266   \n1069                 39            61.0      32.074       7.972   \n1070                 40            61.0      31.518       8.043   \n1071                 41            61.0      31.009       8.132   \n1072                  -            59.0      30.537       9.057   \n\n     Fertility Rate Infant Mortality Rate Growth Rate  \n0             5.129                  49.4           -  \n1             5.002                  47.8         3.0  \n2              4.87                  46.3         3.0  \n3              4.75                  44.8         3.0  \n4             4.643                  43.4         3.0  \n...             ...                   ...         ...  \n1068          3.706                  39.5           -  \n1069          3.659                  38.0         2.0  \n1070          3.599                  37.1         2.0  \n1071          3.545                  36.6         2.0  \n1072          3.491                  35.7         2.0  \n\n[1073 rows x 12 columns]",
      "text/html": "<div>\n<style scoped>\n    .dataframe tbody tr th:only-of-type {\n        vertical-align: middle;\n    }\n\n    .dataframe tbody tr th {\n        vertical-align: top;\n    }\n\n    .dataframe thead th {\n        text-align: right;\n    }\n</style>\n<table border=\"1\" class=\"dataframe\">\n  <thead>\n    <tr style=\"text-align: right;\">\n      <th></th>\n      <th>Country</th>\n      <th>Year</th>\n      <th>Total Population</th>\n      <th>Urban Population</th>\n      <th>Rural Population</th>\n      <th>Population Density</th>\n      <th>Life Expectancy</th>\n      <th>Birth Rate</th>\n      <th>Death Rate</th>\n      <th>Fertility Rate</th>\n      <th>Infant Mortality Rate</th>\n      <th>Growth Rate</th>\n    </tr>\n  </thead>\n  <tbody>\n    <tr>\n      <th>0</th>\n      <td>Afghanistan</td>\n      <td>2017</td>\n      <td>-</td>\n      <td>-</td>\n      <td>-</td>\n      <td>55</td>\n      <td>63.0</td>\n      <td>37.342</td>\n      <td>7.027</td>\n      <td>5.129</td>\n      <td>49.4</td>\n      <td>-</td>\n    </tr>\n    <tr>\n      <th>1</th>\n      <td>Afghanistan</td>\n      <td>2018</td>\n      <td>36,686,784</td>\n      <td>9,353,296</td>\n      <td>27,333,488</td>\n      <td>56</td>\n      <td>63.0</td>\n      <td>36.927</td>\n      <td>6.981</td>\n      <td>5.002</td>\n      <td>47.8</td>\n      <td>3.0</td>\n    </tr>\n    <tr>\n      <th>2</th>\n      <td>Afghanistan</td>\n      <td>2019</td>\n      <td>37,769,499</td>\n      <td>9,727,157</td>\n      <td>28,042,342</td>\n      <td>58</td>\n      <td>64.0</td>\n      <td>36.466</td>\n      <td>6.791</td>\n      <td>4.87</td>\n      <td>46.3</td>\n      <td>3.0</td>\n    </tr>\n    <tr>\n      <th>3</th>\n      <td>Afghanistan</td>\n      <td>2020</td>\n      <td>38,972,230</td>\n      <td>10,142,913</td>\n      <td>28,829,317</td>\n      <td>60</td>\n      <td>63.0</td>\n      <td>36.051</td>\n      <td>7.113</td>\n      <td>4.75</td>\n      <td>44.8</td>\n      <td>3.0</td>\n    </tr>\n    <tr>\n      <th>4</th>\n      <td>Afghanistan</td>\n      <td>2021</td>\n      <td>40,099,462</td>\n      <td>10,551,772</td>\n      <td>29,547,690</td>\n      <td>-</td>\n      <td>62.0</td>\n      <td>35.842</td>\n      <td>7.344</td>\n      <td>4.643</td>\n      <td>43.4</td>\n      <td>3.0</td>\n    </tr>\n    <tr>\n      <th>...</th>\n      <td>...</td>\n      <td>...</td>\n      <td>...</td>\n      <td>...</td>\n      <td>...</td>\n      <td>...</td>\n      <td>...</td>\n      <td>...</td>\n      <td>...</td>\n      <td>...</td>\n      <td>...</td>\n      <td>...</td>\n    </tr>\n    <tr>\n      <th>1068</th>\n      <td>Zimbabwe</td>\n      <td>2017</td>\n      <td>-</td>\n      <td>-</td>\n      <td>-</td>\n      <td>38</td>\n      <td>61.0</td>\n      <td>32.516</td>\n      <td>8.266</td>\n      <td>3.706</td>\n      <td>39.5</td>\n      <td>-</td>\n    </tr>\n    <tr>\n      <th>1069</th>\n      <td>Zimbabwe</td>\n      <td>2018</td>\n      <td>15,052,184</td>\n      <td>4,848,158</td>\n      <td>10,204,026</td>\n      <td>39</td>\n      <td>61.0</td>\n      <td>32.074</td>\n      <td>7.972</td>\n      <td>3.659</td>\n      <td>38.0</td>\n      <td>2.0</td>\n    </tr>\n    <tr>\n      <th>1070</th>\n      <td>Zimbabwe</td>\n      <td>2019</td>\n      <td>15,354,608</td>\n      <td>4,945,719</td>\n      <td>10,408,889</td>\n      <td>40</td>\n      <td>61.0</td>\n      <td>31.518</td>\n      <td>8.043</td>\n      <td>3.599</td>\n      <td>37.1</td>\n      <td>2.0</td>\n    </tr>\n    <tr>\n      <th>1071</th>\n      <td>Zimbabwe</td>\n      <td>2020</td>\n      <td>15,669,666</td>\n      <td>5,052,214</td>\n      <td>10,617,452</td>\n      <td>41</td>\n      <td>61.0</td>\n      <td>31.009</td>\n      <td>8.132</td>\n      <td>3.545</td>\n      <td>36.6</td>\n      <td>2.0</td>\n    </tr>\n    <tr>\n      <th>1072</th>\n      <td>Zimbabwe</td>\n      <td>2021</td>\n      <td>15,993,524</td>\n      <td>5,166,388</td>\n      <td>10,827,136</td>\n      <td>-</td>\n      <td>59.0</td>\n      <td>30.537</td>\n      <td>9.057</td>\n      <td>3.491</td>\n      <td>35.7</td>\n      <td>2.0</td>\n    </tr>\n  </tbody>\n</table>\n<p>1073 rows × 12 columns</p>\n</div>"
     },
     "execution_count": 82,
     "metadata": {},
     "output_type": "execute_result"
    }
   ],
   "source": [
    "drop = df.drop(df[df['Total Population'] == '-'].index, inplace=True)\n",
    "df"
   ],
   "metadata": {
    "collapsed": false,
    "ExecuteTime": {
     "start_time": "2023-10-05T11:53:09.527857Z",
     "end_time": "2023-10-05T11:53:09.654515Z"
    }
   }
  },
  {
   "cell_type": "markdown",
   "source": [
    "2.7 Получите описательную статистику по переменным (например, max(), min(), describe()"
   ],
   "metadata": {
    "collapsed": false
   }
  },
  {
   "cell_type": "code",
   "execution_count": 93,
   "outputs": [
    {
     "data": {
      "text/plain": "'China'"
     },
     "execution_count": 93,
     "metadata": {},
     "output_type": "execute_result"
    }
   ],
   "source": [
    "seeMin = df.min()\n",
    "seeMin"
   ],
   "metadata": {
    "collapsed": false,
    "ExecuteTime": {
     "start_time": "2023-10-05T12:55:35.760202Z",
     "end_time": "2023-10-05T12:55:35.765586Z"
    }
   }
  },
  {
   "cell_type": "code",
   "execution_count": 94,
   "outputs": [
    {
     "data": {
      "text/plain": "'Tuvalu'"
     },
     "execution_count": 94,
     "metadata": {},
     "output_type": "execute_result"
    }
   ],
   "source": [
    "seeMax = df.max()\n",
    "seeMax"
   ],
   "metadata": {
    "collapsed": false,
    "ExecuteTime": {
     "start_time": "2023-10-05T12:56:25.916054Z",
     "end_time": "2023-10-05T12:56:25.953241Z"
    }
   }
  },
  {
   "cell_type": "code",
   "execution_count": 84,
   "outputs": [
    {
     "data": {
      "text/plain": "              Year   Birth Rate   Death Rate\ncount  1073.000000  1073.000000  1073.000000\nmean   2019.013048    18.801519     7.841907\nstd       1.410190     9.903449     2.973418\nmin    2017.000000     0.000000     0.000000\n25%    2018.000000    10.620000     6.067000\n50%    2019.000000    16.025000     7.396000\n75%    2020.000000    25.921000     9.313000\nmax    2021.000000    46.351000    21.700000",
      "text/html": "<div>\n<style scoped>\n    .dataframe tbody tr th:only-of-type {\n        vertical-align: middle;\n    }\n\n    .dataframe tbody tr th {\n        vertical-align: top;\n    }\n\n    .dataframe thead th {\n        text-align: right;\n    }\n</style>\n<table border=\"1\" class=\"dataframe\">\n  <thead>\n    <tr style=\"text-align: right;\">\n      <th></th>\n      <th>Year</th>\n      <th>Birth Rate</th>\n      <th>Death Rate</th>\n    </tr>\n  </thead>\n  <tbody>\n    <tr>\n      <th>count</th>\n      <td>1073.000000</td>\n      <td>1073.000000</td>\n      <td>1073.000000</td>\n    </tr>\n    <tr>\n      <th>mean</th>\n      <td>2019.013048</td>\n      <td>18.801519</td>\n      <td>7.841907</td>\n    </tr>\n    <tr>\n      <th>std</th>\n      <td>1.410190</td>\n      <td>9.903449</td>\n      <td>2.973418</td>\n    </tr>\n    <tr>\n      <th>min</th>\n      <td>2017.000000</td>\n      <td>0.000000</td>\n      <td>0.000000</td>\n    </tr>\n    <tr>\n      <th>25%</th>\n      <td>2018.000000</td>\n      <td>10.620000</td>\n      <td>6.067000</td>\n    </tr>\n    <tr>\n      <th>50%</th>\n      <td>2019.000000</td>\n      <td>16.025000</td>\n      <td>7.396000</td>\n    </tr>\n    <tr>\n      <th>75%</th>\n      <td>2020.000000</td>\n      <td>25.921000</td>\n      <td>9.313000</td>\n    </tr>\n    <tr>\n      <th>max</th>\n      <td>2021.000000</td>\n      <td>46.351000</td>\n      <td>21.700000</td>\n    </tr>\n  </tbody>\n</table>\n</div>"
     },
     "execution_count": 84,
     "metadata": {},
     "output_type": "execute_result"
    }
   ],
   "source": [
    "seeDescribe = df.describe()\n",
    "seeDescribe"
   ],
   "metadata": {
    "collapsed": false,
    "ExecuteTime": {
     "start_time": "2023-10-05T11:53:09.548685Z",
     "end_time": "2023-10-05T11:53:09.659508Z"
    }
   }
  },
  {
   "cell_type": "markdown",
   "source": [
    "2.8 Выполните сортировку данных по нескольким критериям"
   ],
   "metadata": {
    "collapsed": false
   }
  },
  {
   "cell_type": "code",
   "execution_count": 85,
   "outputs": [
    {
     "data": {
      "text/plain": "                     Country  Year Total Population Urban Population  \\\n133   British Virgin Islands  2017                -                -   \n873              South Korea  2017                -                -   \n769              Puerto Rico  2017                -                -   \n416                Hong Kong  2017                -                -   \n466                    Italy  2017                -                -   \n...                      ...   ...              ...              ...   \n829               Seychelles  2018           96,762           54,855   \n1047                 Vietnam  2021       97,468,029       37,088,534   \n830               Seychelles  2019           97,625           55,762   \n831               Seychelles  2020           98,462           56,661   \n832               Seychelles  2021           99,258           57,542   \n\n     Rural Population Population Density Life Expectancy  Birth Rate  \\\n133                 -                200            75.0       6.847   \n873                 -                527            83.0       7.000   \n769                 -                375            79.0       7.300   \n416                 -              7,041            85.0       7.600   \n466                 -                205            83.0       7.600   \n...               ...                ...             ...         ...   \n829            41,907                210            73.0      17.100   \n1047       60,379,495                  -            74.0      15.008   \n830            41,863                212            74.0      16.400   \n831            41,801                214            77.0      15.800   \n832            41,716                  -            73.0      16.800   \n\n      Death Rate Fertility Rate Infant Mortality Rate Growth Rate  \n133        6.143          0.872                  11.3           -  \n873        5.600          1.052                   2.8           -  \n769        9.222          1.101                     -           -  \n416        6.300          1.128                     -           -  \n466       10.700           1.32                   2.8           -  \n...          ...            ...                   ...         ...  \n829        8.400           2.41                  12.5         1.0  \n1047       7.317          1.944                  16.4         1.0  \n830        8.100           2.36                  12.4         1.0  \n831        6.800           2.29                  12.2         1.0  \n832        9.300           2.46                  12.0         1.0  \n\n[1073 rows x 12 columns]",
      "text/html": "<div>\n<style scoped>\n    .dataframe tbody tr th:only-of-type {\n        vertical-align: middle;\n    }\n\n    .dataframe tbody tr th {\n        vertical-align: top;\n    }\n\n    .dataframe thead th {\n        text-align: right;\n    }\n</style>\n<table border=\"1\" class=\"dataframe\">\n  <thead>\n    <tr style=\"text-align: right;\">\n      <th></th>\n      <th>Country</th>\n      <th>Year</th>\n      <th>Total Population</th>\n      <th>Urban Population</th>\n      <th>Rural Population</th>\n      <th>Population Density</th>\n      <th>Life Expectancy</th>\n      <th>Birth Rate</th>\n      <th>Death Rate</th>\n      <th>Fertility Rate</th>\n      <th>Infant Mortality Rate</th>\n      <th>Growth Rate</th>\n    </tr>\n  </thead>\n  <tbody>\n    <tr>\n      <th>133</th>\n      <td>British Virgin Islands</td>\n      <td>2017</td>\n      <td>-</td>\n      <td>-</td>\n      <td>-</td>\n      <td>200</td>\n      <td>75.0</td>\n      <td>6.847</td>\n      <td>6.143</td>\n      <td>0.872</td>\n      <td>11.3</td>\n      <td>-</td>\n    </tr>\n    <tr>\n      <th>873</th>\n      <td>South Korea</td>\n      <td>2017</td>\n      <td>-</td>\n      <td>-</td>\n      <td>-</td>\n      <td>527</td>\n      <td>83.0</td>\n      <td>7.000</td>\n      <td>5.600</td>\n      <td>1.052</td>\n      <td>2.8</td>\n      <td>-</td>\n    </tr>\n    <tr>\n      <th>769</th>\n      <td>Puerto Rico</td>\n      <td>2017</td>\n      <td>-</td>\n      <td>-</td>\n      <td>-</td>\n      <td>375</td>\n      <td>79.0</td>\n      <td>7.300</td>\n      <td>9.222</td>\n      <td>1.101</td>\n      <td>-</td>\n      <td>-</td>\n    </tr>\n    <tr>\n      <th>416</th>\n      <td>Hong Kong</td>\n      <td>2017</td>\n      <td>-</td>\n      <td>-</td>\n      <td>-</td>\n      <td>7,041</td>\n      <td>85.0</td>\n      <td>7.600</td>\n      <td>6.300</td>\n      <td>1.128</td>\n      <td>-</td>\n      <td>-</td>\n    </tr>\n    <tr>\n      <th>466</th>\n      <td>Italy</td>\n      <td>2017</td>\n      <td>-</td>\n      <td>-</td>\n      <td>-</td>\n      <td>205</td>\n      <td>83.0</td>\n      <td>7.600</td>\n      <td>10.700</td>\n      <td>1.32</td>\n      <td>2.8</td>\n      <td>-</td>\n    </tr>\n    <tr>\n      <th>...</th>\n      <td>...</td>\n      <td>...</td>\n      <td>...</td>\n      <td>...</td>\n      <td>...</td>\n      <td>...</td>\n      <td>...</td>\n      <td>...</td>\n      <td>...</td>\n      <td>...</td>\n      <td>...</td>\n      <td>...</td>\n    </tr>\n    <tr>\n      <th>829</th>\n      <td>Seychelles</td>\n      <td>2018</td>\n      <td>96,762</td>\n      <td>54,855</td>\n      <td>41,907</td>\n      <td>210</td>\n      <td>73.0</td>\n      <td>17.100</td>\n      <td>8.400</td>\n      <td>2.41</td>\n      <td>12.5</td>\n      <td>1.0</td>\n    </tr>\n    <tr>\n      <th>1047</th>\n      <td>Vietnam</td>\n      <td>2021</td>\n      <td>97,468,029</td>\n      <td>37,088,534</td>\n      <td>60,379,495</td>\n      <td>-</td>\n      <td>74.0</td>\n      <td>15.008</td>\n      <td>7.317</td>\n      <td>1.944</td>\n      <td>16.4</td>\n      <td>1.0</td>\n    </tr>\n    <tr>\n      <th>830</th>\n      <td>Seychelles</td>\n      <td>2019</td>\n      <td>97,625</td>\n      <td>55,762</td>\n      <td>41,863</td>\n      <td>212</td>\n      <td>74.0</td>\n      <td>16.400</td>\n      <td>8.100</td>\n      <td>2.36</td>\n      <td>12.4</td>\n      <td>1.0</td>\n    </tr>\n    <tr>\n      <th>831</th>\n      <td>Seychelles</td>\n      <td>2020</td>\n      <td>98,462</td>\n      <td>56,661</td>\n      <td>41,801</td>\n      <td>214</td>\n      <td>77.0</td>\n      <td>15.800</td>\n      <td>6.800</td>\n      <td>2.29</td>\n      <td>12.2</td>\n      <td>1.0</td>\n    </tr>\n    <tr>\n      <th>832</th>\n      <td>Seychelles</td>\n      <td>2021</td>\n      <td>99,258</td>\n      <td>57,542</td>\n      <td>41,716</td>\n      <td>-</td>\n      <td>73.0</td>\n      <td>16.800</td>\n      <td>9.300</td>\n      <td>2.46</td>\n      <td>12.0</td>\n      <td>1.0</td>\n    </tr>\n  </tbody>\n</table>\n<p>1073 rows × 12 columns</p>\n</div>"
     },
     "execution_count": 85,
     "metadata": {},
     "output_type": "execute_result"
    }
   ],
   "source": [
    "totalPopulationSort = df.sort_values(by=['Total Population', 'Birth Rate'],ascending=[True, True])\n",
    "totalPopulationSort"
   ],
   "metadata": {
    "collapsed": false,
    "ExecuteTime": {
     "start_time": "2023-10-05T11:53:09.558312Z",
     "end_time": "2023-10-05T11:53:09.659804Z"
    }
   }
  },
  {
   "cell_type": "markdown",
   "source": [
    "2.9 Выведите название страны, которая имеет максимальную численность населения"
   ],
   "metadata": {
    "collapsed": false
   }
  },
  {
   "cell_type": "code",
   "execution_count": 86,
   "outputs": [
    {
     "data": {
      "text/plain": "         Country  Year Total Population Urban Population Rural Population  \\\n832   Seychelles  2021           99,258           57,542           41,716   \n831   Seychelles  2020           98,462           56,661           41,801   \n830   Seychelles  2019           97,625           55,762           41,863   \n1047     Vietnam  2021       97,468,029       37,088,534       60,379,495   \n829   Seychelles  2018           96,762           54,855           41,907   \n...          ...   ...              ...              ...              ...   \n591        Malta  2017                -                -                -   \n586         Mali  2017                -                -                -   \n581     Maldives  2017                -                -                -   \n576     Malaysia  2017                -                -                -   \n536      Liberia  2017                -                -                -   \n\n     Population Density Life Expectancy  Birth Rate  Death Rate  \\\n832                   -            73.0      16.800       9.300   \n831                 214            77.0      15.800       6.800   \n830                 212            74.0      16.400       8.100   \n1047                  -            74.0      15.008       7.317   \n829                 210            73.0      17.100       8.400   \n...                 ...             ...         ...         ...   \n591               1,462            82.0       9.200       7.600   \n586                  16            59.0      43.378       9.637   \n581               1,575            80.0      16.126       2.784   \n576                  97            75.0      16.355       5.132   \n536                  50            61.0      33.151       8.954   \n\n     Fertility Rate Infant Mortality Rate Growth Rate  \n832            2.46                  12.0         1.0  \n831            2.29                  12.2         1.0  \n830            2.36                  12.4         1.0  \n1047          1.944                  16.4         1.0  \n829            2.41                  12.5         1.0  \n...             ...                   ...         ...  \n591            1.26                   5.6           -  \n586           6.251                  67.3           -  \n581           1.845                   7.1           -  \n576           1.929                   6.9           -  \n536           4.396                  62.1           -  \n\n[1073 rows x 12 columns]",
      "text/html": "<div>\n<style scoped>\n    .dataframe tbody tr th:only-of-type {\n        vertical-align: middle;\n    }\n\n    .dataframe tbody tr th {\n        vertical-align: top;\n    }\n\n    .dataframe thead th {\n        text-align: right;\n    }\n</style>\n<table border=\"1\" class=\"dataframe\">\n  <thead>\n    <tr style=\"text-align: right;\">\n      <th></th>\n      <th>Country</th>\n      <th>Year</th>\n      <th>Total Population</th>\n      <th>Urban Population</th>\n      <th>Rural Population</th>\n      <th>Population Density</th>\n      <th>Life Expectancy</th>\n      <th>Birth Rate</th>\n      <th>Death Rate</th>\n      <th>Fertility Rate</th>\n      <th>Infant Mortality Rate</th>\n      <th>Growth Rate</th>\n    </tr>\n  </thead>\n  <tbody>\n    <tr>\n      <th>832</th>\n      <td>Seychelles</td>\n      <td>2021</td>\n      <td>99,258</td>\n      <td>57,542</td>\n      <td>41,716</td>\n      <td>-</td>\n      <td>73.0</td>\n      <td>16.800</td>\n      <td>9.300</td>\n      <td>2.46</td>\n      <td>12.0</td>\n      <td>1.0</td>\n    </tr>\n    <tr>\n      <th>831</th>\n      <td>Seychelles</td>\n      <td>2020</td>\n      <td>98,462</td>\n      <td>56,661</td>\n      <td>41,801</td>\n      <td>214</td>\n      <td>77.0</td>\n      <td>15.800</td>\n      <td>6.800</td>\n      <td>2.29</td>\n      <td>12.2</td>\n      <td>1.0</td>\n    </tr>\n    <tr>\n      <th>830</th>\n      <td>Seychelles</td>\n      <td>2019</td>\n      <td>97,625</td>\n      <td>55,762</td>\n      <td>41,863</td>\n      <td>212</td>\n      <td>74.0</td>\n      <td>16.400</td>\n      <td>8.100</td>\n      <td>2.36</td>\n      <td>12.4</td>\n      <td>1.0</td>\n    </tr>\n    <tr>\n      <th>1047</th>\n      <td>Vietnam</td>\n      <td>2021</td>\n      <td>97,468,029</td>\n      <td>37,088,534</td>\n      <td>60,379,495</td>\n      <td>-</td>\n      <td>74.0</td>\n      <td>15.008</td>\n      <td>7.317</td>\n      <td>1.944</td>\n      <td>16.4</td>\n      <td>1.0</td>\n    </tr>\n    <tr>\n      <th>829</th>\n      <td>Seychelles</td>\n      <td>2018</td>\n      <td>96,762</td>\n      <td>54,855</td>\n      <td>41,907</td>\n      <td>210</td>\n      <td>73.0</td>\n      <td>17.100</td>\n      <td>8.400</td>\n      <td>2.41</td>\n      <td>12.5</td>\n      <td>1.0</td>\n    </tr>\n    <tr>\n      <th>...</th>\n      <td>...</td>\n      <td>...</td>\n      <td>...</td>\n      <td>...</td>\n      <td>...</td>\n      <td>...</td>\n      <td>...</td>\n      <td>...</td>\n      <td>...</td>\n      <td>...</td>\n      <td>...</td>\n      <td>...</td>\n    </tr>\n    <tr>\n      <th>591</th>\n      <td>Malta</td>\n      <td>2017</td>\n      <td>-</td>\n      <td>-</td>\n      <td>-</td>\n      <td>1,462</td>\n      <td>82.0</td>\n      <td>9.200</td>\n      <td>7.600</td>\n      <td>1.26</td>\n      <td>5.6</td>\n      <td>-</td>\n    </tr>\n    <tr>\n      <th>586</th>\n      <td>Mali</td>\n      <td>2017</td>\n      <td>-</td>\n      <td>-</td>\n      <td>-</td>\n      <td>16</td>\n      <td>59.0</td>\n      <td>43.378</td>\n      <td>9.637</td>\n      <td>6.251</td>\n      <td>67.3</td>\n      <td>-</td>\n    </tr>\n    <tr>\n      <th>581</th>\n      <td>Maldives</td>\n      <td>2017</td>\n      <td>-</td>\n      <td>-</td>\n      <td>-</td>\n      <td>1,575</td>\n      <td>80.0</td>\n      <td>16.126</td>\n      <td>2.784</td>\n      <td>1.845</td>\n      <td>7.1</td>\n      <td>-</td>\n    </tr>\n    <tr>\n      <th>576</th>\n      <td>Malaysia</td>\n      <td>2017</td>\n      <td>-</td>\n      <td>-</td>\n      <td>-</td>\n      <td>97</td>\n      <td>75.0</td>\n      <td>16.355</td>\n      <td>5.132</td>\n      <td>1.929</td>\n      <td>6.9</td>\n      <td>-</td>\n    </tr>\n    <tr>\n      <th>536</th>\n      <td>Liberia</td>\n      <td>2017</td>\n      <td>-</td>\n      <td>-</td>\n      <td>-</td>\n      <td>50</td>\n      <td>61.0</td>\n      <td>33.151</td>\n      <td>8.954</td>\n      <td>4.396</td>\n      <td>62.1</td>\n      <td>-</td>\n    </tr>\n  </tbody>\n</table>\n<p>1073 rows × 12 columns</p>\n</div>"
     },
     "execution_count": 86,
     "metadata": {},
     "output_type": "execute_result"
    }
   ],
   "source": [
    "maxPopulationCountryIndex = df['Total Population'].idxmax() #нашел индекс c макс значением при помощи встроенного метода idхmax()\n",
    "countryWithMaxPopulation = df.loc[maxPopulationCountryIndex, 'Country']\n",
    "countryWithMaxPopulation"
   ],
   "metadata": {
    "collapsed": false,
    "ExecuteTime": {
     "start_time": "2023-10-05T11:53:09.568856Z",
     "end_time": "2023-10-05T11:53:09.660548Z"
    }
   }
  },
  {
   "cell_type": "markdown",
   "source": [
    "2.10 Выведите название страны, которая имеет минимальную численность населения"
   ],
   "metadata": {
    "collapsed": false
   }
  },
  {
   "cell_type": "code",
   "execution_count": 86,
   "outputs": [],
   "source": [
    "minPopulationCountryIndex = df['Total Population'].idxmin() #нашел индекс c мин значением при помощи встроенного метода idхmin()\n",
    "countryWithMinPopulation = df.loc[minPopulationCountryIndex, 'Country']\n",
    "countryWithMinPopulation"
   ],
   "metadata": {
    "collapsed": false,
    "ExecuteTime": {
     "start_time": "2023-10-05T11:53:09.578389Z",
     "end_time": "2023-10-05T11:53:09.660607Z"
    }
   }
  },
  {
   "cell_type": "markdown",
   "source": [
    "2.11 Экспорт фрейма в MS Excel"
   ],
   "metadata": {
    "collapsed": false
   }
  },
  {
   "cell_type": "code",
   "execution_count": 87,
   "outputs": [
    {
     "ename": "ModuleNotFoundError",
     "evalue": "No module named 'openpyxl'",
     "output_type": "error",
     "traceback": [
      "\u001B[0;31m---------------------------------------------------------------------------\u001B[0m",
      "\u001B[0;31mModuleNotFoundError\u001B[0m                       Traceback (most recent call last)",
      "Cell \u001B[0;32mIn[87], line 2\u001B[0m\n\u001B[1;32m      1\u001B[0m df1 \u001B[38;5;241m=\u001B[39m pd\u001B[38;5;241m.\u001B[39mDataFrame(df)\n\u001B[0;32m----> 2\u001B[0m \u001B[43mdf1\u001B[49m\u001B[38;5;241;43m.\u001B[39;49m\u001B[43mto_excel\u001B[49m\u001B[43m(\u001B[49m\u001B[38;5;124;43m\"\u001B[39;49m\u001B[38;5;124;43mGlobal Population Trends(2016-2022).xlsx\u001B[39;49m\u001B[38;5;124;43m\"\u001B[39;49m\u001B[43m,\u001B[49m\u001B[43m \u001B[49m\u001B[43mindex\u001B[49m\u001B[38;5;241;43m=\u001B[39;49m\u001B[38;5;28;43;01mFalse\u001B[39;49;00m\u001B[43m)\u001B[49m\n",
      "File \u001B[0;32m~/Desktop/bigData/venv/lib/python3.10/site-packages/pandas/core/generic.py:2345\u001B[0m, in \u001B[0;36mNDFrame.to_excel\u001B[0;34m(self, excel_writer, sheet_name, na_rep, float_format, columns, header, index, index_label, startrow, startcol, engine, merge_cells, inf_rep, freeze_panes, storage_options, engine_kwargs)\u001B[0m\n\u001B[1;32m   2332\u001B[0m \u001B[38;5;28;01mfrom\u001B[39;00m \u001B[38;5;21;01mpandas\u001B[39;00m\u001B[38;5;21;01m.\u001B[39;00m\u001B[38;5;21;01mio\u001B[39;00m\u001B[38;5;21;01m.\u001B[39;00m\u001B[38;5;21;01mformats\u001B[39;00m\u001B[38;5;21;01m.\u001B[39;00m\u001B[38;5;21;01mexcel\u001B[39;00m \u001B[38;5;28;01mimport\u001B[39;00m ExcelFormatter\n\u001B[1;32m   2334\u001B[0m formatter \u001B[38;5;241m=\u001B[39m ExcelFormatter(\n\u001B[1;32m   2335\u001B[0m     df,\n\u001B[1;32m   2336\u001B[0m     na_rep\u001B[38;5;241m=\u001B[39mna_rep,\n\u001B[0;32m   (...)\u001B[0m\n\u001B[1;32m   2343\u001B[0m     inf_rep\u001B[38;5;241m=\u001B[39minf_rep,\n\u001B[1;32m   2344\u001B[0m )\n\u001B[0;32m-> 2345\u001B[0m \u001B[43mformatter\u001B[49m\u001B[38;5;241;43m.\u001B[39;49m\u001B[43mwrite\u001B[49m\u001B[43m(\u001B[49m\n\u001B[1;32m   2346\u001B[0m \u001B[43m    \u001B[49m\u001B[43mexcel_writer\u001B[49m\u001B[43m,\u001B[49m\n\u001B[1;32m   2347\u001B[0m \u001B[43m    \u001B[49m\u001B[43msheet_name\u001B[49m\u001B[38;5;241;43m=\u001B[39;49m\u001B[43msheet_name\u001B[49m\u001B[43m,\u001B[49m\n\u001B[1;32m   2348\u001B[0m \u001B[43m    \u001B[49m\u001B[43mstartrow\u001B[49m\u001B[38;5;241;43m=\u001B[39;49m\u001B[43mstartrow\u001B[49m\u001B[43m,\u001B[49m\n\u001B[1;32m   2349\u001B[0m \u001B[43m    \u001B[49m\u001B[43mstartcol\u001B[49m\u001B[38;5;241;43m=\u001B[39;49m\u001B[43mstartcol\u001B[49m\u001B[43m,\u001B[49m\n\u001B[1;32m   2350\u001B[0m \u001B[43m    \u001B[49m\u001B[43mfreeze_panes\u001B[49m\u001B[38;5;241;43m=\u001B[39;49m\u001B[43mfreeze_panes\u001B[49m\u001B[43m,\u001B[49m\n\u001B[1;32m   2351\u001B[0m \u001B[43m    \u001B[49m\u001B[43mengine\u001B[49m\u001B[38;5;241;43m=\u001B[39;49m\u001B[43mengine\u001B[49m\u001B[43m,\u001B[49m\n\u001B[1;32m   2352\u001B[0m \u001B[43m    \u001B[49m\u001B[43mstorage_options\u001B[49m\u001B[38;5;241;43m=\u001B[39;49m\u001B[43mstorage_options\u001B[49m\u001B[43m,\u001B[49m\n\u001B[1;32m   2353\u001B[0m \u001B[43m    \u001B[49m\u001B[43mengine_kwargs\u001B[49m\u001B[38;5;241;43m=\u001B[39;49m\u001B[43mengine_kwargs\u001B[49m\u001B[43m,\u001B[49m\n\u001B[1;32m   2354\u001B[0m \u001B[43m\u001B[49m\u001B[43m)\u001B[49m\n",
      "File \u001B[0;32m~/Desktop/bigData/venv/lib/python3.10/site-packages/pandas/io/formats/excel.py:946\u001B[0m, in \u001B[0;36mExcelFormatter.write\u001B[0;34m(self, writer, sheet_name, startrow, startcol, freeze_panes, engine, storage_options, engine_kwargs)\u001B[0m\n\u001B[1;32m    942\u001B[0m     need_save \u001B[38;5;241m=\u001B[39m \u001B[38;5;28;01mFalse\u001B[39;00m\n\u001B[1;32m    943\u001B[0m \u001B[38;5;28;01melse\u001B[39;00m:\n\u001B[1;32m    944\u001B[0m     \u001B[38;5;66;03m# error: Cannot instantiate abstract class 'ExcelWriter' with abstract\u001B[39;00m\n\u001B[1;32m    945\u001B[0m     \u001B[38;5;66;03m# attributes 'engine', 'save', 'supported_extensions' and 'write_cells'\u001B[39;00m\n\u001B[0;32m--> 946\u001B[0m     writer \u001B[38;5;241m=\u001B[39m \u001B[43mExcelWriter\u001B[49m\u001B[43m(\u001B[49m\u001B[43m  \u001B[49m\u001B[38;5;66;43;03m# type: ignore[abstract]\u001B[39;49;00m\n\u001B[1;32m    947\u001B[0m \u001B[43m        \u001B[49m\u001B[43mwriter\u001B[49m\u001B[43m,\u001B[49m\n\u001B[1;32m    948\u001B[0m \u001B[43m        \u001B[49m\u001B[43mengine\u001B[49m\u001B[38;5;241;43m=\u001B[39;49m\u001B[43mengine\u001B[49m\u001B[43m,\u001B[49m\n\u001B[1;32m    949\u001B[0m \u001B[43m        \u001B[49m\u001B[43mstorage_options\u001B[49m\u001B[38;5;241;43m=\u001B[39;49m\u001B[43mstorage_options\u001B[49m\u001B[43m,\u001B[49m\n\u001B[1;32m    950\u001B[0m \u001B[43m        \u001B[49m\u001B[43mengine_kwargs\u001B[49m\u001B[38;5;241;43m=\u001B[39;49m\u001B[43mengine_kwargs\u001B[49m\u001B[43m,\u001B[49m\n\u001B[1;32m    951\u001B[0m \u001B[43m    \u001B[49m\u001B[43m)\u001B[49m\n\u001B[1;32m    952\u001B[0m     need_save \u001B[38;5;241m=\u001B[39m \u001B[38;5;28;01mTrue\u001B[39;00m\n\u001B[1;32m    954\u001B[0m \u001B[38;5;28;01mtry\u001B[39;00m:\n",
      "File \u001B[0;32m~/Desktop/bigData/venv/lib/python3.10/site-packages/pandas/io/excel/_openpyxl.py:57\u001B[0m, in \u001B[0;36mOpenpyxlWriter.__init__\u001B[0;34m(self, path, engine, date_format, datetime_format, mode, storage_options, if_sheet_exists, engine_kwargs, **kwargs)\u001B[0m\n\u001B[1;32m     44\u001B[0m \u001B[38;5;28;01mdef\u001B[39;00m \u001B[38;5;21m__init__\u001B[39m(\n\u001B[1;32m     45\u001B[0m     \u001B[38;5;28mself\u001B[39m,\n\u001B[1;32m     46\u001B[0m     path: FilePath \u001B[38;5;241m|\u001B[39m WriteExcelBuffer \u001B[38;5;241m|\u001B[39m ExcelWriter,\n\u001B[0;32m   (...)\u001B[0m\n\u001B[1;32m     55\u001B[0m ) \u001B[38;5;241m-\u001B[39m\u001B[38;5;241m>\u001B[39m \u001B[38;5;28;01mNone\u001B[39;00m:\n\u001B[1;32m     56\u001B[0m     \u001B[38;5;66;03m# Use the openpyxl module as the Excel writer.\u001B[39;00m\n\u001B[0;32m---> 57\u001B[0m     \u001B[38;5;28;01mfrom\u001B[39;00m \u001B[38;5;21;01mopenpyxl\u001B[39;00m\u001B[38;5;21;01m.\u001B[39;00m\u001B[38;5;21;01mworkbook\u001B[39;00m \u001B[38;5;28;01mimport\u001B[39;00m Workbook\n\u001B[1;32m     59\u001B[0m     engine_kwargs \u001B[38;5;241m=\u001B[39m combine_kwargs(engine_kwargs, kwargs)\n\u001B[1;32m     61\u001B[0m     \u001B[38;5;28msuper\u001B[39m()\u001B[38;5;241m.\u001B[39m\u001B[38;5;21m__init__\u001B[39m(\n\u001B[1;32m     62\u001B[0m         path,\n\u001B[1;32m     63\u001B[0m         mode\u001B[38;5;241m=\u001B[39mmode,\n\u001B[0;32m   (...)\u001B[0m\n\u001B[1;32m     66\u001B[0m         engine_kwargs\u001B[38;5;241m=\u001B[39mengine_kwargs,\n\u001B[1;32m     67\u001B[0m     )\n",
      "\u001B[0;31mModuleNotFoundError\u001B[0m: No module named 'openpyxl'"
     ]
    }
   ],
   "source": [
    "df1 = pd.DataFrame(df)\n",
    "df1.to_excel(\"Global Population Trends(2016-2022).xlsx\", index=False)"
   ],
   "metadata": {
    "collapsed": false
   }
  }
 ],
 "metadata": {
  "kernelspec": {
   "display_name": "Python 3",
   "language": "python",
   "name": "python3"
  },
  "language_info": {
   "codemirror_mode": {
    "name": "ipython",
    "version": 2
   },
   "file_extension": ".py",
   "mimetype": "text/x-python",
   "name": "python",
   "nbconvert_exporter": "python",
   "pygments_lexer": "ipython2",
   "version": "2.7.6"
  }
 },
 "nbformat": 4,
 "nbformat_minor": 0
}
