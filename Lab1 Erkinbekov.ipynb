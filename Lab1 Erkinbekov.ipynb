{
 "cells": [
  {
   "cell_type": "code",
   "execution_count": 7,
   "outputs": [
    {
     "name": "stdout",
     "output_type": "stream",
     "text": [
      "Hello\n"
     ]
    }
   ],
   "source": [
    "print(\"Hello\")"
   ],
   "metadata": {
    "collapsed": false,
    "ExecuteTime": {
     "start_time": "2023-09-14T11:42:49.356159Z",
     "end_time": "2023-09-14T11:42:49.358943Z"
    }
   }
  },
  {
   "cell_type": "markdown",
   "source": [
    "# Getting start with Jupyter Python\n",
    "\n",
    "##  We have done\n",
    "\n",
    "* Install [Python] 3.10\n",
    "* Install Jupyter Python in PyCharm"
   ],
   "metadata": {
    "collapsed": false
   }
  },
  {
   "cell_type": "code",
   "execution_count": 11,
   "outputs": [],
   "source": [
    "i = 21"
   ],
   "metadata": {
    "collapsed": false,
    "ExecuteTime": {
     "start_time": "2023-09-14T11:46:49.431824Z",
     "end_time": "2023-09-14T11:46:49.434835Z"
    }
   }
  },
  {
   "cell_type": "code",
   "execution_count": 12,
   "outputs": [
    {
     "name": "stdout",
     "output_type": "stream",
     "text": [
      "21\n"
     ]
    }
   ],
   "source": [
    "print (i)"
   ],
   "metadata": {
    "collapsed": false,
    "ExecuteTime": {
     "start_time": "2023-09-14T11:46:51.658783Z",
     "end_time": "2023-09-14T11:46:51.662022Z"
    }
   }
  },
  {
   "cell_type": "code",
   "execution_count": 13,
   "outputs": [
    {
     "name": "stdout",
     "output_type": "stream",
     "text": [
      "<class 'str'>\n"
     ]
    }
   ],
   "source": [
    "a = \"Hello\"\n",
    "t = type(a)\n",
    "print (t)"
   ],
   "metadata": {
    "collapsed": false,
    "ExecuteTime": {
     "start_time": "2023-09-14T11:47:27.964834Z",
     "end_time": "2023-09-14T11:47:27.968686Z"
    }
   }
  },
  {
   "cell_type": "code",
   "execution_count": 19,
   "outputs": [
    {
     "name": "stdout",
     "output_type": "stream",
     "text": [
      "String\n",
      "[1, 2, 3]\n",
      "{'Name': 'Ernaz', 'Surname': 'Erkinbekov', 'Age': 20}\n",
      "Ernaz\n"
     ]
    },
    {
     "data": {
      "text/plain": "NoneType"
     },
     "execution_count": 19,
     "metadata": {},
     "output_type": "execute_result"
    }
   ],
   "source": [
    "i = 54 #int\n",
    "type(i)\n",
    "f = 5.2 #float\n",
    "type(f)\n",
    "b = False #Boolean\n",
    "type(b)\n",
    "s = \"String\" #String\n",
    "print (s)\n",
    "l = [1,2,3] # List\n",
    "print (l)\n",
    "d = {\"Name\": \"Ernaz\", \"Surname\": \"Erkinbekov\", \"Age\": 20}\n",
    "print(d)\n",
    "print(d['Name'])\n",
    "n = None #Python null type\n",
    "type(n)"
   ],
   "metadata": {
    "collapsed": false,
    "ExecuteTime": {
     "start_time": "2023-09-14T11:53:09.511452Z",
     "end_time": "2023-09-14T11:53:09.529634Z"
    }
   }
  },
  {
   "cell_type": "code",
   "execution_count": 20,
   "outputs": [
    {
     "name": "stdout",
     "output_type": "stream",
     "text": [
      "212 в 3 степени 9528128.0\n"
     ]
    }
   ],
   "source": [
    "import math\n",
    "p = math.pow(212, 3)\n",
    "print (\"212 в 3 степени\", p)\n"
   ],
   "metadata": {
    "collapsed": false,
    "ExecuteTime": {
     "start_time": "2023-09-14T11:54:37.301634Z",
     "end_time": "2023-09-14T11:54:37.316270Z"
    }
   }
  },
  {
   "cell_type": "code",
   "execution_count": 21,
   "outputs": [
    {
     "name": "stdout",
     "output_type": "stream",
     "text": [
      "Our first value False, Our second value is 7\n"
     ]
    }
   ],
   "source": [
    "i = 7\n",
    "n = False\n",
    "print (\"Our first value %s, Our second value is %s\"%(n,i))"
   ],
   "metadata": {
    "collapsed": false,
    "ExecuteTime": {
     "start_time": "2023-09-14T11:55:45.098954Z",
     "end_time": "2023-09-14T11:55:45.113063Z"
    }
   }
  },
  {
   "cell_type": "code",
   "execution_count": 22,
   "outputs": [
    {
     "name": "stdout",
     "output_type": "stream",
     "text": [
      "i or f are both greater than 4\n"
     ]
    }
   ],
   "source": [
    "i = 6\n",
    "f = 5.32\n",
    "if i == 1 and f > 4:\n",
    "    print ('The value of i is 1 and f is greater than 4')\n",
    "elif i > 4 or f > 4:\n",
    "    print(\"i or f are both greater than 4\")\n",
    "else:\n",
    "    print(\"Both i and f are less than or equal to 4\")\n"
   ],
   "metadata": {
    "collapsed": false,
    "ExecuteTime": {
     "start_time": "2023-09-14T11:57:46.517646Z",
     "end_time": "2023-09-14T11:57:46.531988Z"
    }
   }
  },
  {
   "cell_type": "code",
   "execution_count": 23,
   "outputs": [
    {
     "name": "stdout",
     "output_type": "stream",
     "text": [
      "[1, 3, 54, 34, 2]\n"
     ]
    }
   ],
   "source": [
    "l = [1,3,54,34,2]\n",
    "print(l)"
   ],
   "metadata": {
    "collapsed": false,
    "ExecuteTime": {
     "start_time": "2023-09-14T11:58:05.736561Z",
     "end_time": "2023-09-14T11:58:05.751671Z"
    }
   }
  },
  {
   "cell_type": "code",
   "execution_count": 24,
   "outputs": [
    {
     "name": "stdout",
     "output_type": "stream",
     "text": [
      "1\n",
      "3\n",
      "54\n",
      "34\n",
      "2\n"
     ]
    }
   ],
   "source": [
    "for i in l:\n",
    "    print (i)"
   ],
   "metadata": {
    "collapsed": false,
    "ExecuteTime": {
     "start_time": "2023-09-14T11:58:15.433059Z",
     "end_time": "2023-09-14T11:58:15.450990Z"
    }
   }
  },
  {
   "cell_type": "code",
   "execution_count": 26,
   "outputs": [
    {
     "name": "stdout",
     "output_type": "stream",
     "text": [
      "Эти числа от 0 до 100: 0\n",
      "Эти числа от 0 до 100: 1\n",
      "Эти числа от 0 до 100: 2\n",
      "Эти числа от 0 до 100: 3\n",
      "Эти числа от 0 до 100: 4\n",
      "Эти числа от 0 до 100: 5\n",
      "Эти числа от 0 до 100: 6\n",
      "Эти числа от 0 до 100: 7\n",
      "Эти числа от 0 до 100: 8\n",
      "Эти числа от 0 до 100: 9\n",
      "Эти числа от 0 до 100: 10\n",
      "Эти числа от 0 до 100: 11\n",
      "Эти числа от 0 до 100: 12\n",
      "Эти числа от 0 до 100: 13\n",
      "Эти числа от 0 до 100: 14\n",
      "Эти числа от 0 до 100: 15\n",
      "Эти числа от 0 до 100: 16\n",
      "Эти числа от 0 до 100: 17\n",
      "Эти числа от 0 до 100: 18\n",
      "Эти числа от 0 до 100: 19\n",
      "Эти числа от 0 до 100: 20\n",
      "Эти числа от 0 до 100: 21\n",
      "Эти числа от 0 до 100: 22\n",
      "Эти числа от 0 до 100: 23\n",
      "Эти числа от 0 до 100: 24\n",
      "Эти числа от 0 до 100: 25\n",
      "Эти числа от 0 до 100: 26\n",
      "Эти числа от 0 до 100: 27\n",
      "Эти числа от 0 до 100: 28\n",
      "Эти числа от 0 до 100: 29\n",
      "Эти числа от 0 до 100: 30\n",
      "Эти числа от 0 до 100: 31\n",
      "Эти числа от 0 до 100: 32\n",
      "Эти числа от 0 до 100: 33\n",
      "Эти числа от 0 до 100: 34\n",
      "Эти числа от 0 до 100: 35\n",
      "Эти числа от 0 до 100: 36\n",
      "Эти числа от 0 до 100: 37\n",
      "Эти числа от 0 до 100: 38\n",
      "Эти числа от 0 до 100: 39\n",
      "Эти числа от 0 до 100: 40\n",
      "Эти числа от 0 до 100: 41\n",
      "Эти числа от 0 до 100: 42\n",
      "Эти числа от 0 до 100: 43\n",
      "Эти числа от 0 до 100: 44\n",
      "Эти числа от 0 до 100: 45\n",
      "Эти числа от 0 до 100: 46\n",
      "Эти числа от 0 до 100: 47\n",
      "Эти числа от 0 до 100: 48\n",
      "Эти числа от 0 до 100: 49\n",
      "Эти числа от 0 до 100: 50\n",
      "Эти числа от 0 до 100: 51\n",
      "Эти числа от 0 до 100: 52\n",
      "Эти числа от 0 до 100: 53\n",
      "Эти числа от 0 до 100: 54\n",
      "Эти числа от 0 до 100: 55\n",
      "Эти числа от 0 до 100: 56\n",
      "Эти числа от 0 до 100: 57\n",
      "Эти числа от 0 до 100: 58\n",
      "Эти числа от 0 до 100: 59\n",
      "Эти числа от 0 до 100: 60\n",
      "Эти числа от 0 до 100: 61\n",
      "Эти числа от 0 до 100: 62\n",
      "Эти числа от 0 до 100: 63\n",
      "Эти числа от 0 до 100: 64\n",
      "Эти числа от 0 до 100: 65\n",
      "Эти числа от 0 до 100: 66\n",
      "Эти числа от 0 до 100: 67\n",
      "Эти числа от 0 до 100: 68\n",
      "Эти числа от 0 до 100: 69\n",
      "Эти числа от 0 до 100: 70\n",
      "Эти числа от 0 до 100: 71\n",
      "Эти числа от 0 до 100: 72\n",
      "Эти числа от 0 до 100: 73\n",
      "Эти числа от 0 до 100: 74\n",
      "Эти числа от 0 до 100: 75\n",
      "Эти числа от 0 до 100: 76\n",
      "Эти числа от 0 до 100: 77\n",
      "Эти числа от 0 до 100: 78\n",
      "Эти числа от 0 до 100: 79\n",
      "Эти числа от 0 до 100: 80\n",
      "Эти числа от 0 до 100: 81\n",
      "Эти числа от 0 до 100: 82\n",
      "Эти числа от 0 до 100: 83\n",
      "Эти числа от 0 до 100: 84\n",
      "Эти числа от 0 до 100: 85\n",
      "Эти числа от 0 до 100: 86\n",
      "Эти числа от 0 до 100: 87\n",
      "Эти числа от 0 до 100: 88\n",
      "Эти числа от 0 до 100: 89\n",
      "Эти числа от 0 до 100: 90\n",
      "Эти числа от 0 до 100: 91\n",
      "Эти числа от 0 до 100: 92\n",
      "Эти числа от 0 до 100: 93\n",
      "Эти числа от 0 до 100: 94\n",
      "Эти числа от 0 до 100: 95\n",
      "Эти числа от 0 до 100: 96\n",
      "Эти числа от 0 до 100: 97\n",
      "Эти числа от 0 до 100: 98\n",
      "Эти числа от 0 до 100: 99\n"
     ]
    }
   ],
   "source": [
    "for i in range(100):\n",
    "    print(\"Эти числа от 0 до 100:\",i)"
   ],
   "metadata": {
    "collapsed": false,
    "ExecuteTime": {
     "start_time": "2023-09-14T11:59:19.349626Z",
     "end_time": "2023-09-14T11:59:19.354000Z"
    }
   }
  },
  {
   "cell_type": "code",
   "execution_count": 33,
   "outputs": [
    {
     "name": "stdout",
     "output_type": "stream",
     "text": [
      "Second: 0\n",
      "Second: 1\n",
      "Second: 2\n",
      "Second: 3\n",
      "Second: 4\n",
      "Second: 5\n",
      "Second: 6\n",
      "Second: 7\n",
      "Second: 8\n",
      "Second: 9\n",
      "Second: 10\n",
      "Second: 11\n",
      "Second: 12\n"
     ]
    },
    {
     "ename": "KeyboardInterrupt",
     "evalue": "",
     "output_type": "error",
     "traceback": [
      "\u001B[0;31m---------------------------------------------------------------------------\u001B[0m",
      "\u001B[0;31mKeyboardInterrupt\u001B[0m                         Traceback (most recent call last)",
      "Cell \u001B[0;32mIn[33], line 3\u001B[0m\n\u001B[1;32m      1\u001B[0m \u001B[38;5;28;01mimport\u001B[39;00m \u001B[38;5;21;01mtime\u001B[39;00m\n\u001B[1;32m      2\u001B[0m \u001B[38;5;28;01mfor\u001B[39;00m s \u001B[38;5;129;01min\u001B[39;00m \u001B[38;5;28mrange\u001B[39m(\u001B[38;5;241m100\u001B[39m):\n\u001B[0;32m----> 3\u001B[0m     \u001B[43mtime\u001B[49m\u001B[38;5;241;43m.\u001B[39;49m\u001B[43msleep\u001B[49m\u001B[43m(\u001B[49m\u001B[38;5;241;43m1\u001B[39;49m\u001B[43m)\u001B[49m\n\u001B[1;32m      4\u001B[0m     \u001B[38;5;28mprint\u001B[39m (\u001B[38;5;124m\"\u001B[39m\u001B[38;5;124mSecond:\u001B[39m\u001B[38;5;124m\"\u001B[39m, s)\n",
      "\u001B[0;31mKeyboardInterrupt\u001B[0m: "
     ]
    }
   ],
   "source": [
    "import time\n",
    "for s in range(100):\n",
    "    time.sleep(1)\n",
    "    print (\"Second:\", s)"
   ],
   "metadata": {
    "collapsed": false,
    "ExecuteTime": {
     "start_time": "2023-09-14T12:02:46.248835Z",
     "end_time": "2023-09-14T12:02:46.254879Z"
    }
   }
  },
  {
   "cell_type": "code",
   "execution_count": 34,
   "outputs": [
    {
     "name": "stdout",
     "output_type": "stream",
     "text": [
      "0\n",
      "1\n",
      "2\n",
      "3\n",
      "4\n",
      "5\n",
      "6\n",
      "7\n",
      "8\n",
      "9\n"
     ]
    }
   ],
   "source": [
    "counter = 0\n",
    "while counter < 10:\n",
    "    print (counter)\n",
    "    counter+=1"
   ],
   "metadata": {
    "collapsed": false,
    "ExecuteTime": {
     "start_time": "2023-09-14T12:03:47.215383Z",
     "end_time": "2023-09-14T12:03:47.248129Z"
    }
   }
  },
  {
   "cell_type": "markdown",
   "source": [
    "# Createing functions in Python\n",
    "\n",
    " Again, we dont use {}, but just indent the lines that are part of the function.\n"
   ],
   "metadata": {
    "collapsed": false
   }
  },
  {
   "cell_type": "code",
   "execution_count": 35,
   "outputs": [
    {
     "name": "stdout",
     "output_type": "stream",
     "text": [
      "36\n"
     ]
    }
   ],
   "source": [
    "def square(x):\n",
    "    y = x ** 2\n",
    "    return y\n",
    "\n",
    "a = 6\n",
    "print (square(a))"
   ],
   "metadata": {
    "collapsed": false,
    "ExecuteTime": {
     "start_time": "2023-09-14T12:06:04.261142Z",
     "end_time": "2023-09-14T12:06:04.277465Z"
    }
   }
  },
  {
   "cell_type": "code",
   "execution_count": 36,
   "outputs": [
    {
     "name": "stdout",
     "output_type": "stream",
     "text": [
      "2916\n"
     ]
    }
   ],
   "source": [
    "square = lambda x: x*x\n",
    "print(square(54))"
   ],
   "metadata": {
    "collapsed": false,
    "ExecuteTime": {
     "start_time": "2023-09-14T12:06:36.008756Z",
     "end_time": "2023-09-14T12:06:36.025381Z"
    }
   }
  },
  {
   "cell_type": "code",
   "execution_count": 37,
   "outputs": [
    {
     "name": "stdout",
     "output_type": "stream",
     "text": [
      "10\n"
     ]
    }
   ],
   "source": [
    "umnoj = lambda a,b: a*b\n",
    "print (umnoj(2,5))"
   ],
   "metadata": {
    "collapsed": false,
    "ExecuteTime": {
     "start_time": "2023-09-14T12:07:47.747772Z",
     "end_time": "2023-09-14T12:07:47.768623Z"
    }
   }
  },
  {
   "cell_type": "markdown",
   "source": [
    "# Заголовки"
   ],
   "metadata": {
    "collapsed": false
   }
  },
  {
   "cell_type": "markdown",
   "source": [
    "<h1> Заголовок </h1>\n",
    "<h2> Заголовок </h2>\n",
    "<h3> Заголовок </h3>\n",
    "<h4> Заголовок </h4>\n",
    "<h5> Заголовок </h5>\n",
    "<h6> Заголовок </h6>\n"
   ],
   "metadata": {
    "collapsed": false
   }
  },
  {
   "cell_type": "markdown",
   "source": [
    "<img src='data:image/jpeg;base64,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' width=\"800\">"
   ],
   "metadata": {
    "collapsed": false
   }
  },
  {
   "cell_type": "markdown",
   "source": [
    "\\begin{equation*}\n",
    "\\left(sum_{k=1}^n a_k b_k\\right)^2\n",
    "\\end{equation*}"
   ],
   "metadata": {
    "collapsed": false
   }
  },
  {
   "cell_type": "markdown",
   "source": [
    "\\begin{equation*}\n",
    "\\(P=mv\\)\n",
    "\\end{equation*}"
   ],
   "metadata": {
    "collapsed": false
   }
  },
  {
   "cell_type": "code",
   "execution_count": 39,
   "outputs": [
    {
     "name": "stdout",
     "output_type": "stream",
     "text": [
      "usage: ipconfig <command> <args>\r\n",
      "where <command> is one of waitall, getifaddr, ifcount, getoption, getiflist, getsummary, getpacket, getv6packet, getra, getdhcpduid, getdhcpiaid, set, setverbose\r\n"
     ]
    }
   ],
   "source": [
    "! ipconfig"
   ],
   "metadata": {
    "collapsed": false,
    "ExecuteTime": {
     "start_time": "2023-09-14T15:37:21.857851Z",
     "end_time": "2023-09-14T15:37:21.986945Z"
    }
   }
  },
  {
   "cell_type": "markdown",
   "source": [],
   "metadata": {
    "collapsed": false
   }
  },
  {
   "cell_type": "code",
   "execution_count": 40,
   "outputs": [
    {
     "name": "stdout",
     "output_type": "stream",
     "text": [
      "PING google.com (64.233.165.139): 56 data bytes\r\n",
      "64 bytes from 64.233.165.139: icmp_seq=0 ttl=56 time=64.994 ms\r\n",
      "64 bytes from 64.233.165.139: icmp_seq=1 ttl=56 time=73.217 ms\r\n",
      "64 bytes from 64.233.165.139: icmp_seq=2 ttl=56 time=66.363 ms\r\n",
      "64 bytes from 64.233.165.139: icmp_seq=3 ttl=56 time=72.438 ms\r\n",
      "64 bytes from 64.233.165.139: icmp_seq=4 ttl=56 time=73.833 ms\r\n",
      "64 bytes from 64.233.165.139: icmp_seq=5 ttl=56 time=73.034 ms\r\n",
      "64 bytes from 64.233.165.139: icmp_seq=6 ttl=56 time=73.232 ms\r\n",
      "64 bytes from 64.233.165.139: icmp_seq=7 ttl=56 time=73.969 ms\r\n",
      "64 bytes from 64.233.165.139: icmp_seq=8 ttl=56 time=67.434 ms\r\n",
      "64 bytes from 64.233.165.139: icmp_seq=9 ttl=56 time=73.458 ms\r\n",
      "64 bytes from 64.233.165.139: icmp_seq=10 ttl=56 time=73.024 ms\r\n",
      "64 bytes from 64.233.165.139: icmp_seq=11 ttl=56 time=73.764 ms\r\n",
      "64 bytes from 64.233.165.139: icmp_seq=12 ttl=56 time=72.993 ms\r\n",
      "64 bytes from 64.233.165.139: icmp_seq=13 ttl=56 time=64.880 ms\r\n",
      "64 bytes from 64.233.165.139: icmp_seq=14 ttl=56 time=72.947 ms\r\n",
      "64 bytes from 64.233.165.139: icmp_seq=15 ttl=56 time=73.821 ms\r\n",
      "64 bytes from 64.233.165.139: icmp_seq=16 ttl=56 time=64.898 ms\r\n",
      "64 bytes from 64.233.165.139: icmp_seq=17 ttl=56 time=73.022 ms\r\n",
      "64 bytes from 64.233.165.139: icmp_seq=18 ttl=56 time=65.497 ms\r\n",
      "64 bytes from 64.233.165.139: icmp_seq=19 ttl=56 time=76.546 ms\r\n",
      "64 bytes from 64.233.165.139: icmp_seq=20 ttl=56 time=73.205 ms\r\n",
      "64 bytes from 64.233.165.139: icmp_seq=21 ttl=56 time=65.438 ms\r\n",
      "Request timeout for icmp_seq 22\r\n",
      "64 bytes from 64.233.165.139: icmp_seq=23 ttl=56 time=65.065 ms\r\n",
      "64 bytes from 64.233.165.139: icmp_seq=24 ttl=56 time=65.200 ms\r\n",
      "64 bytes from 64.233.165.139: icmp_seq=25 ttl=56 time=64.409 ms\r\n",
      "64 bytes from 64.233.165.139: icmp_seq=26 ttl=56 time=64.788 ms\r\n",
      "64 bytes from 64.233.165.139: icmp_seq=27 ttl=56 time=69.072 ms\r\n",
      "64 bytes from 64.233.165.139: icmp_seq=28 ttl=56 time=72.799 ms\r\n",
      "64 bytes from 64.233.165.139: icmp_seq=29 ttl=56 time=67.629 ms\r\n",
      "64 bytes from 64.233.165.139: icmp_seq=30 ttl=56 time=73.689 ms\r\n",
      "64 bytes from 64.233.165.139: icmp_seq=31 ttl=56 time=87.931 ms\r\n",
      "64 bytes from 64.233.165.139: icmp_seq=32 ttl=56 time=65.503 ms\r\n",
      "64 bytes from 64.233.165.139: icmp_seq=33 ttl=56 time=73.314 ms\r\n",
      "64 bytes from 64.233.165.139: icmp_seq=34 ttl=56 time=65.064 ms\r\n",
      "64 bytes from 64.233.165.139: icmp_seq=35 ttl=56 time=64.684 ms\r\n",
      "64 bytes from 64.233.165.139: icmp_seq=36 ttl=56 time=64.989 ms\r\n",
      "64 bytes from 64.233.165.139: icmp_seq=37 ttl=56 time=72.990 ms\r\n",
      "64 bytes from 64.233.165.139: icmp_seq=38 ttl=56 time=66.459 ms\r\n",
      "64 bytes from 64.233.165.139: icmp_seq=39 ttl=56 time=64.759 ms\r\n",
      "64 bytes from 64.233.165.139: icmp_seq=40 ttl=56 time=73.133 ms\r\n",
      "64 bytes from 64.233.165.139: icmp_seq=41 ttl=56 time=73.255 ms\r\n",
      "64 bytes from 64.233.165.139: icmp_seq=42 ttl=56 time=78.133 ms\r\n",
      "64 bytes from 64.233.165.139: icmp_seq=43 ttl=56 time=73.279 ms\r\n",
      "64 bytes from 64.233.165.139: icmp_seq=44 ttl=56 time=65.475 ms\r\n",
      "64 bytes from 64.233.165.139: icmp_seq=45 ttl=56 time=72.720 ms\r\n",
      "64 bytes from 64.233.165.139: icmp_seq=46 ttl=56 time=75.287 ms\r\n",
      "64 bytes from 64.233.165.139: icmp_seq=47 ttl=56 time=65.032 ms\r\n",
      "64 bytes from 64.233.165.139: icmp_seq=48 ttl=56 time=64.879 ms\r\n",
      "64 bytes from 64.233.165.139: icmp_seq=49 ttl=56 time=69.436 ms\r\n",
      "64 bytes from 64.233.165.139: icmp_seq=50 ttl=56 time=65.131 ms\r\n",
      "64 bytes from 64.233.165.139: icmp_seq=51 ttl=56 time=73.385 ms\r\n",
      "64 bytes from 64.233.165.139: icmp_seq=52 ttl=56 time=72.802 ms\r\n",
      "64 bytes from 64.233.165.139: icmp_seq=53 ttl=56 time=74.215 ms\r\n",
      "64 bytes from 64.233.165.139: icmp_seq=54 ttl=56 time=73.259 ms\r\n",
      "64 bytes from 64.233.165.139: icmp_seq=55 ttl=56 time=69.338 ms\r\n",
      "64 bytes from 64.233.165.139: icmp_seq=56 ttl=56 time=73.249 ms\r\n",
      "64 bytes from 64.233.165.139: icmp_seq=57 ttl=56 time=73.352 ms\r\n",
      "64 bytes from 64.233.165.139: icmp_seq=58 ttl=56 time=65.813 ms\r\n",
      "64 bytes from 64.233.165.139: icmp_seq=59 ttl=56 time=64.818 ms\r\n",
      "64 bytes from 64.233.165.139: icmp_seq=60 ttl=56 time=64.887 ms\r\n",
      "64 bytes from 64.233.165.139: icmp_seq=61 ttl=56 time=65.350 ms\r\n",
      "64 bytes from 64.233.165.139: icmp_seq=62 ttl=56 time=73.647 ms\r\n",
      "64 bytes from 64.233.165.139: icmp_seq=63 ttl=56 time=68.035 ms\r\n",
      "64 bytes from 64.233.165.139: icmp_seq=64 ttl=56 time=72.898 ms\r\n",
      "64 bytes from 64.233.165.139: icmp_seq=65 ttl=56 time=64.980 ms\r\n",
      "64 bytes from 64.233.165.139: icmp_seq=66 ttl=56 time=65.335 ms\r\n",
      "64 bytes from 64.233.165.139: icmp_seq=67 ttl=56 time=73.674 ms\r\n",
      "64 bytes from 64.233.165.139: icmp_seq=68 ttl=56 time=73.338 ms\r\n",
      "64 bytes from 64.233.165.139: icmp_seq=69 ttl=56 time=73.342 ms\r\n",
      "64 bytes from 64.233.165.139: icmp_seq=70 ttl=56 time=65.908 ms\r\n",
      "64 bytes from 64.233.165.139: icmp_seq=71 ttl=56 time=65.590 ms\r\n",
      "64 bytes from 64.233.165.139: icmp_seq=72 ttl=56 time=65.234 ms\r\n",
      "64 bytes from 64.233.165.139: icmp_seq=73 ttl=56 time=73.207 ms\r\n",
      "64 bytes from 64.233.165.139: icmp_seq=74 ttl=56 time=73.249 ms\r\n",
      "64 bytes from 64.233.165.139: icmp_seq=75 ttl=56 time=67.051 ms\r\n",
      "64 bytes from 64.233.165.139: icmp_seq=76 ttl=56 time=73.099 ms\r\n",
      "64 bytes from 64.233.165.139: icmp_seq=77 ttl=56 time=64.857 ms\r\n",
      "64 bytes from 64.233.165.139: icmp_seq=78 ttl=56 time=65.062 ms\r\n",
      "64 bytes from 64.233.165.139: icmp_seq=79 ttl=56 time=73.375 ms\r\n",
      "64 bytes from 64.233.165.139: icmp_seq=80 ttl=56 time=70.382 ms\r\n",
      "64 bytes from 64.233.165.139: icmp_seq=81 ttl=56 time=73.139 ms\r\n",
      "Request timeout for icmp_seq 82\r\n",
      "64 bytes from 64.233.165.139: icmp_seq=83 ttl=56 time=64.946 ms\r\n",
      "64 bytes from 64.233.165.139: icmp_seq=84 ttl=56 time=73.549 ms\r\n",
      "64 bytes from 64.233.165.139: icmp_seq=85 ttl=56 time=68.810 ms\r\n",
      "64 bytes from 64.233.165.139: icmp_seq=86 ttl=56 time=66.425 ms\r\n",
      "64 bytes from 64.233.165.139: icmp_seq=87 ttl=56 time=73.396 ms\r\n",
      "64 bytes from 64.233.165.139: icmp_seq=88 ttl=56 time=78.772 ms\r\n",
      "64 bytes from 64.233.165.139: icmp_seq=89 ttl=56 time=73.164 ms\r\n",
      "64 bytes from 64.233.165.139: icmp_seq=90 ttl=56 time=67.638 ms\r\n",
      "64 bytes from 64.233.165.139: icmp_seq=91 ttl=56 time=73.020 ms\r\n",
      "64 bytes from 64.233.165.139: icmp_seq=92 ttl=56 time=72.946 ms\r\n",
      "64 bytes from 64.233.165.139: icmp_seq=93 ttl=56 time=65.179 ms\r\n",
      "64 bytes from 64.233.165.139: icmp_seq=94 ttl=56 time=64.199 ms\r\n",
      "64 bytes from 64.233.165.139: icmp_seq=95 ttl=56 time=64.769 ms\r\n",
      "64 bytes from 64.233.165.139: icmp_seq=96 ttl=56 time=65.119 ms\r\n",
      "64 bytes from 64.233.165.139: icmp_seq=97 ttl=56 time=73.212 ms\r\n",
      "64 bytes from 64.233.165.139: icmp_seq=98 ttl=56 time=73.253 ms\r\n",
      "64 bytes from 64.233.165.139: icmp_seq=99 ttl=56 time=73.472 ms\r\n",
      "64 bytes from 64.233.165.139: icmp_seq=100 ttl=56 time=69.289 ms\r\n",
      "64 bytes from 64.233.165.139: icmp_seq=101 ttl=56 time=73.815 ms\r\n",
      "64 bytes from 64.233.165.139: icmp_seq=102 ttl=56 time=64.955 ms\r\n",
      "64 bytes from 64.233.165.139: icmp_seq=103 ttl=56 time=73.421 ms\r\n",
      "64 bytes from 64.233.165.139: icmp_seq=104 ttl=56 time=73.444 ms\r\n",
      "64 bytes from 64.233.165.139: icmp_seq=105 ttl=56 time=65.035 ms\r\n",
      "64 bytes from 64.233.165.139: icmp_seq=106 ttl=56 time=65.366 ms\r\n",
      "64 bytes from 64.233.165.139: icmp_seq=107 ttl=56 time=65.455 ms\r\n",
      "64 bytes from 64.233.165.139: icmp_seq=108 ttl=56 time=73.305 ms\r\n",
      "64 bytes from 64.233.165.139: icmp_seq=109 ttl=56 time=73.195 ms\r\n",
      "64 bytes from 64.233.165.139: icmp_seq=110 ttl=56 time=73.429 ms\r\n",
      "64 bytes from 64.233.165.139: icmp_seq=111 ttl=56 time=81.165 ms\r\n",
      "64 bytes from 64.233.165.139: icmp_seq=112 ttl=56 time=74.944 ms\r\n",
      "64 bytes from 64.233.165.139: icmp_seq=113 ttl=56 time=69.348 ms\r\n",
      "64 bytes from 64.233.165.139: icmp_seq=114 ttl=56 time=73.200 ms\r\n",
      "64 bytes from 64.233.165.139: icmp_seq=115 ttl=56 time=64.754 ms\r\n",
      "64 bytes from 64.233.165.139: icmp_seq=116 ttl=56 time=71.753 ms\r\n",
      "64 bytes from 64.233.165.139: icmp_seq=117 ttl=56 time=64.910 ms\r\n",
      "64 bytes from 64.233.165.139: icmp_seq=118 ttl=56 time=73.275 ms\r\n",
      "64 bytes from 64.233.165.139: icmp_seq=119 ttl=56 time=65.049 ms\r\n",
      "64 bytes from 64.233.165.139: icmp_seq=120 ttl=56 time=73.145 ms\r\n",
      "64 bytes from 64.233.165.139: icmp_seq=121 ttl=56 time=67.279 ms\r\n",
      "64 bytes from 64.233.165.139: icmp_seq=122 ttl=56 time=65.068 ms\r\n",
      "64 bytes from 64.233.165.139: icmp_seq=123 ttl=56 time=65.129 ms\r\n",
      "64 bytes from 64.233.165.139: icmp_seq=124 ttl=56 time=65.466 ms\r\n",
      "64 bytes from 64.233.165.139: icmp_seq=125 ttl=56 time=64.607 ms\r\n",
      "64 bytes from 64.233.165.139: icmp_seq=126 ttl=56 time=71.789 ms\r\n",
      "64 bytes from 64.233.165.139: icmp_seq=127 ttl=56 time=67.294 ms\r\n",
      "64 bytes from 64.233.165.139: icmp_seq=128 ttl=56 time=73.906 ms\r\n",
      "64 bytes from 64.233.165.139: icmp_seq=129 ttl=56 time=65.246 ms\r\n",
      "64 bytes from 64.233.165.139: icmp_seq=130 ttl=56 time=77.764 ms\r\n",
      "64 bytes from 64.233.165.139: icmp_seq=131 ttl=56 time=66.905 ms\r\n",
      "64 bytes from 64.233.165.139: icmp_seq=132 ttl=56 time=73.204 ms\r\n",
      "64 bytes from 64.233.165.139: icmp_seq=133 ttl=56 time=74.773 ms\r\n",
      "64 bytes from 64.233.165.139: icmp_seq=134 ttl=56 time=73.118 ms\r\n",
      "64 bytes from 64.233.165.139: icmp_seq=135 ttl=56 time=64.839 ms\r\n",
      "64 bytes from 64.233.165.139: icmp_seq=136 ttl=56 time=65.340 ms\r\n",
      "64 bytes from 64.233.165.139: icmp_seq=137 ttl=56 time=64.908 ms\r\n",
      "64 bytes from 64.233.165.139: icmp_seq=138 ttl=56 time=73.261 ms\r\n",
      "64 bytes from 64.233.165.139: icmp_seq=139 ttl=56 time=65.547 ms\r\n",
      "64 bytes from 64.233.165.139: icmp_seq=140 ttl=56 time=73.211 ms\r\n",
      "64 bytes from 64.233.165.139: icmp_seq=141 ttl=56 time=72.428 ms\r\n",
      "64 bytes from 64.233.165.139: icmp_seq=142 ttl=56 time=72.686 ms\r\n",
      "64 bytes from 64.233.165.139: icmp_seq=143 ttl=56 time=72.877 ms\r\n",
      "64 bytes from 64.233.165.139: icmp_seq=144 ttl=56 time=65.421 ms\r\n",
      "64 bytes from 64.233.165.139: icmp_seq=145 ttl=56 time=73.670 ms\r\n",
      "64 bytes from 64.233.165.139: icmp_seq=146 ttl=56 time=65.480 ms\r\n",
      "64 bytes from 64.233.165.139: icmp_seq=147 ttl=56 time=65.502 ms\r\n",
      "64 bytes from 64.233.165.139: icmp_seq=148 ttl=56 time=74.288 ms\r\n",
      "64 bytes from 64.233.165.139: icmp_seq=149 ttl=56 time=74.715 ms\r\n",
      "Request timeout for icmp_seq 150\r\n",
      "64 bytes from 64.233.165.139: icmp_seq=151 ttl=56 time=73.986 ms\r\n",
      "64 bytes from 64.233.165.139: icmp_seq=152 ttl=56 time=72.728 ms\r\n",
      "64 bytes from 64.233.165.139: icmp_seq=153 ttl=56 time=73.463 ms\r\n",
      "64 bytes from 64.233.165.139: icmp_seq=154 ttl=56 time=73.165 ms\r\n",
      "64 bytes from 64.233.165.139: icmp_seq=155 ttl=56 time=73.677 ms\r\n",
      "64 bytes from 64.233.165.139: icmp_seq=156 ttl=56 time=73.665 ms\r\n",
      "64 bytes from 64.233.165.139: icmp_seq=157 ttl=56 time=79.361 ms\r\n",
      "64 bytes from 64.233.165.139: icmp_seq=158 ttl=56 time=64.951 ms\r\n",
      "64 bytes from 64.233.165.139: icmp_seq=159 ttl=56 time=73.235 ms\r\n",
      "64 bytes from 64.233.165.139: icmp_seq=160 ttl=56 time=73.114 ms\r\n",
      "64 bytes from 64.233.165.139: icmp_seq=161 ttl=56 time=65.631 ms\r\n",
      "64 bytes from 64.233.165.139: icmp_seq=162 ttl=56 time=72.635 ms\r\n",
      "64 bytes from 64.233.165.139: icmp_seq=163 ttl=56 time=64.593 ms\r\n",
      "64 bytes from 64.233.165.139: icmp_seq=164 ttl=56 time=73.815 ms\r\n",
      "64 bytes from 64.233.165.139: icmp_seq=165 ttl=56 time=73.465 ms\r\n",
      "64 bytes from 64.233.165.139: icmp_seq=166 ttl=56 time=66.093 ms\r\n",
      "64 bytes from 64.233.165.139: icmp_seq=167 ttl=56 time=64.703 ms\r\n",
      "64 bytes from 64.233.165.139: icmp_seq=168 ttl=56 time=77.924 ms\r\n",
      "64 bytes from 64.233.165.139: icmp_seq=169 ttl=56 time=64.598 ms\r\n",
      "64 bytes from 64.233.165.139: icmp_seq=170 ttl=56 time=64.662 ms\r\n",
      "64 bytes from 64.233.165.139: icmp_seq=171 ttl=56 time=64.743 ms\r\n",
      "64 bytes from 64.233.165.139: icmp_seq=172 ttl=56 time=64.406 ms\r\n",
      "64 bytes from 64.233.165.139: icmp_seq=173 ttl=56 time=70.655 ms\r\n",
      "64 bytes from 64.233.165.139: icmp_seq=174 ttl=56 time=65.654 ms\r\n",
      "64 bytes from 64.233.165.139: icmp_seq=175 ttl=56 time=64.706 ms\r\n",
      "64 bytes from 64.233.165.139: icmp_seq=176 ttl=56 time=65.007 ms\r\n",
      "64 bytes from 64.233.165.139: icmp_seq=177 ttl=56 time=67.158 ms\r\n",
      "64 bytes from 64.233.165.139: icmp_seq=178 ttl=56 time=64.898 ms\r\n",
      "64 bytes from 64.233.165.139: icmp_seq=179 ttl=56 time=73.807 ms\r\n",
      "64 bytes from 64.233.165.139: icmp_seq=180 ttl=56 time=73.592 ms\r\n",
      "64 bytes from 64.233.165.139: icmp_seq=181 ttl=56 time=80.739 ms\r\n",
      "64 bytes from 64.233.165.139: icmp_seq=182 ttl=56 time=73.443 ms\r\n",
      "64 bytes from 64.233.165.139: icmp_seq=183 ttl=56 time=72.963 ms\r\n",
      "64 bytes from 64.233.165.139: icmp_seq=184 ttl=56 time=73.167 ms\r\n",
      "Request timeout for icmp_seq 185\r\n",
      "64 bytes from 64.233.165.139: icmp_seq=186 ttl=56 time=76.473 ms\r\n",
      "64 bytes from 64.233.165.139: icmp_seq=187 ttl=56 time=67.625 ms\r\n",
      "64 bytes from 64.233.165.139: icmp_seq=188 ttl=56 time=65.410 ms\r\n",
      "64 bytes from 64.233.165.139: icmp_seq=189 ttl=56 time=73.322 ms\r\n",
      "64 bytes from 64.233.165.139: icmp_seq=190 ttl=56 time=65.380 ms\r\n",
      "Request timeout for icmp_seq 191\r\n",
      "64 bytes from 64.233.165.139: icmp_seq=192 ttl=56 time=64.589 ms\r\n",
      "64 bytes from 64.233.165.139: icmp_seq=193 ttl=56 time=74.999 ms\r\n",
      "64 bytes from 64.233.165.139: icmp_seq=194 ttl=56 time=63.986 ms\r\n",
      "64 bytes from 64.233.165.139: icmp_seq=195 ttl=56 time=65.015 ms\r\n",
      "64 bytes from 64.233.165.139: icmp_seq=196 ttl=56 time=64.078 ms\r\n",
      "64 bytes from 64.233.165.139: icmp_seq=197 ttl=56 time=66.129 ms\r\n",
      "64 bytes from 64.233.165.139: icmp_seq=198 ttl=56 time=64.135 ms\r\n",
      "64 bytes from 64.233.165.139: icmp_seq=199 ttl=56 time=64.618 ms\r\n",
      "64 bytes from 64.233.165.139: icmp_seq=200 ttl=56 time=65.457 ms\r\n",
      "64 bytes from 64.233.165.139: icmp_seq=201 ttl=56 time=66.088 ms\r\n",
      "64 bytes from 64.233.165.139: icmp_seq=202 ttl=56 time=70.241 ms\r\n",
      "64 bytes from 64.233.165.139: icmp_seq=203 ttl=56 time=68.640 ms\r\n",
      "64 bytes from 64.233.165.139: icmp_seq=204 ttl=56 time=65.914 ms\r\n",
      "64 bytes from 64.233.165.139: icmp_seq=205 ttl=56 time=67.978 ms\r\n",
      "64 bytes from 64.233.165.139: icmp_seq=206 ttl=56 time=68.029 ms\r\n",
      "64 bytes from 64.233.165.139: icmp_seq=207 ttl=56 time=64.456 ms\r\n",
      "64 bytes from 64.233.165.139: icmp_seq=208 ttl=56 time=67.266 ms\r\n",
      "64 bytes from 64.233.165.139: icmp_seq=209 ttl=56 time=64.396 ms\r\n",
      "Request timeout for icmp_seq 210\r\n",
      "64 bytes from 64.233.165.139: icmp_seq=211 ttl=56 time=65.436 ms\r\n",
      "64 bytes from 64.233.165.139: icmp_seq=212 ttl=56 time=64.576 ms\r\n",
      "64 bytes from 64.233.165.139: icmp_seq=213 ttl=56 time=70.315 ms\r\n",
      "64 bytes from 64.233.165.139: icmp_seq=214 ttl=56 time=65.859 ms\r\n",
      "64 bytes from 64.233.165.139: icmp_seq=215 ttl=56 time=71.515 ms\r\n",
      "64 bytes from 64.233.165.139: icmp_seq=216 ttl=56 time=63.181 ms\r\n",
      "64 bytes from 64.233.165.139: icmp_seq=217 ttl=56 time=73.078 ms\r\n",
      "64 bytes from 64.233.165.139: icmp_seq=218 ttl=56 time=65.859 ms\r\n",
      "64 bytes from 64.233.165.139: icmp_seq=219 ttl=56 time=67.232 ms\r\n",
      "64 bytes from 64.233.165.139: icmp_seq=220 ttl=56 time=65.569 ms\r\n",
      "64 bytes from 64.233.165.139: icmp_seq=221 ttl=56 time=71.539 ms\r\n",
      "64 bytes from 64.233.165.139: icmp_seq=222 ttl=56 time=63.474 ms\r\n",
      "64 bytes from 64.233.165.139: icmp_seq=223 ttl=56 time=67.577 ms\r\n",
      "64 bytes from 64.233.165.139: icmp_seq=224 ttl=56 time=66.560 ms\r\n",
      "Request timeout for icmp_seq 225\r\n",
      "64 bytes from 64.233.165.139: icmp_seq=226 ttl=56 time=65.551 ms\r\n",
      "64 bytes from 64.233.165.139: icmp_seq=227 ttl=56 time=65.005 ms\r\n",
      "64 bytes from 64.233.165.139: icmp_seq=228 ttl=56 time=68.700 ms\r\n",
      "64 bytes from 64.233.165.139: icmp_seq=229 ttl=56 time=73.734 ms\r\n",
      "^C\r\n",
      "\r\n",
      "--- google.com ping statistics ---\r\n",
      "230 packets transmitted, 223 packets received, 3.0% packet loss\r\n",
      "round-trip min/avg/max/stddev = 63.181/69.575/87.931/4.432 ms\r\n"
     ]
    }
   ],
   "source": [
    "! ping google.com"
   ],
   "metadata": {
    "collapsed": false,
    "ExecuteTime": {
     "start_time": "2023-09-14T15:37:38.892792Z",
     "end_time": "2023-09-14T15:41:29.689022Z"
    }
   }
  },
  {
   "cell_type": "code",
   "execution_count": null,
   "outputs": [],
   "source": [],
   "metadata": {
    "collapsed": false
   }
  }
 ],
 "metadata": {
  "kernelspec": {
   "display_name": "Python 3",
   "language": "python",
   "name": "python3"
  },
  "language_info": {
   "codemirror_mode": {
    "name": "ipython",
    "version": 2
   },
   "file_extension": ".py",
   "mimetype": "text/x-python",
   "name": "python",
   "nbconvert_exporter": "python",
   "pygments_lexer": "ipython2",
   "version": "2.7.6"
  }
 },
 "nbformat": 4,
 "nbformat_minor": 0
}
